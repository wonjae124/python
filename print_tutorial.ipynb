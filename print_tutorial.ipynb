{
  "nbformat": 4,
  "nbformat_minor": 0,
  "metadata": {
    "colab": {
      "name": "print_tutorial.ipynb",
      "provenance": [],
      "collapsed_sections": [],
      "authorship_tag": "ABX9TyMVjSPi02Tx9CLdthR9MetG",
      "include_colab_link": true
    },
    "kernelspec": {
      "name": "python3",
      "display_name": "Python 3"
    },
    "language_info": {
      "name": "python"
    }
  },
  "cells": [
    {
      "cell_type": "markdown",
      "metadata": {
        "id": "view-in-github",
        "colab_type": "text"
      },
      "source": [
        "<a href=\"https://colab.research.google.com/github/wonjae124/python/blob/main/print_tutorial.ipynb\" target=\"_parent\"><img src=\"https://colab.research.google.com/assets/colab-badge.svg\" alt=\"Open In Colab\"/></a>"
      ]
    },
    {
      "cell_type": "code",
      "execution_count": 1,
      "metadata": {
        "colab": {
          "base_uri": "https://localhost:8080/"
        },
        "id": "HeRgfkGRUQ4h",
        "outputId": "26084d96-13f6-4d41-e273-25ac8798c404"
      },
      "outputs": [
        {
          "output_type": "stream",
          "name": "stdout",
          "text": [
            "I said hi hello\n"
          ]
        }
      ],
      "source": [
        "s1 = \"hi hello\"\n",
        "print(\"I said %s\"%s1)"
      ]
    },
    {
      "cell_type": "code",
      "source": [
        "i1 = 132\n",
        "print(\"i have %d\"%i1)"
      ],
      "metadata": {
        "colab": {
          "base_uri": "https://localhost:8080/"
        },
        "id": "RwD2PGlAUWPV",
        "outputId": "a0e8925f-524f-48c2-9d66-60d0697916f9"
      },
      "execution_count": 2,
      "outputs": [
        {
          "output_type": "stream",
          "name": "stdout",
          "text": [
            "i have 132\n"
          ]
        }
      ]
    },
    {
      "cell_type": "code",
      "source": [
        "i1 = 132.2\n",
        "print(\"i have %d\"%i1)"
      ],
      "metadata": {
        "colab": {
          "base_uri": "https://localhost:8080/"
        },
        "id": "mZcYaMz0UaAc",
        "outputId": "e0f652cc-97cb-46a0-d7ec-6fe5007601e7"
      },
      "execution_count": 3,
      "outputs": [
        {
          "output_type": "stream",
          "name": "stdout",
          "text": [
            "i have 132\n"
          ]
        }
      ]
    },
    {
      "cell_type": "code",
      "source": [
        "a = 123.2\n",
        "print('i have %f'%formate(a))\n",
        "print('i have %.1f'%a)"
      ],
      "metadata": {
        "colab": {
          "base_uri": "https://localhost:8080/"
        },
        "id": "05pCkXJQUdfU",
        "outputId": "1eb01090-9f09-4a3c-8d2d-a8405644a749"
      },
      "execution_count": 5,
      "outputs": [
        {
          "output_type": "stream",
          "name": "stdout",
          "text": [
            "i have 123.200000\n",
            "i have 123.2\n"
          ]
        }
      ]
    },
    {
      "cell_type": "code",
      "source": [
        "a = 2\n",
        "b = 3\n",
        "\n",
        "s = '구구단 {0} X {1} = {2}'.format(a, b, a*b)\n",
        "print(s)"
      ],
      "metadata": {
        "colab": {
          "base_uri": "https://localhost:8080/"
        },
        "id": "xFx_hnUhVvR-",
        "outputId": "d7f57a62-49cf-4622-f544-a67177383787"
      },
      "execution_count": 10,
      "outputs": [
        {
          "output_type": "stream",
          "name": "stdout",
          "text": [
            "구구단 2 X 3 = 6\n"
          ]
        }
      ]
    },
    {
      "cell_type": "code",
      "source": [
        "s1 = 'name : {0}'.format('BlockDMask')\n",
        "print(s1)"
      ],
      "metadata": {
        "colab": {
          "base_uri": "https://localhost:8080/"
        },
        "id": "boOI891xV8WB",
        "outputId": "c59a3c9a-a5d9-4e08-f1a6-69692db43075"
      },
      "execution_count": 11,
      "outputs": [
        {
          "output_type": "stream",
          "name": "stdout",
          "text": [
            "name : BlockDMask\n"
          ]
        }
      ]
    },
    {
      "cell_type": "code",
      "source": [
        "age = 55\n",
        "s2 = 'age : {0}'.format(age)\n",
        "print(s2)"
      ],
      "metadata": {
        "colab": {
          "base_uri": "https://localhost:8080/"
        },
        "id": "bSWG0qvrW3C_",
        "outputId": "b0e72b72-cda9-4cc0-ac94-8e164ff9aa46"
      },
      "execution_count": 12,
      "outputs": [
        {
          "output_type": "stream",
          "name": "stdout",
          "text": [
            "age : 55\n"
          ]
        }
      ]
    },
    {
      "cell_type": "code",
      "source": [
        "s3 = 'numer : {num}, gender : {gen}'.format(num=1234, gen='남')\n",
        "print(s3)"
      ],
      "metadata": {
        "colab": {
          "base_uri": "https://localhost:8080/"
        },
        "id": "am89zRySW7rN",
        "outputId": "8bfe259f-babb-4dde-af90-68d7ccb10bac"
      },
      "execution_count": 14,
      "outputs": [
        {
          "output_type": "stream",
          "name": "stdout",
          "text": [
            "numer : 1234, gender : 남\n"
          ]
        }
      ]
    }
  ]
}