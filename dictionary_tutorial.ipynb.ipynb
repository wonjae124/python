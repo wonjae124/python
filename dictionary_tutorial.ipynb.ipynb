{
 "cells": [
  {
   "cell_type": "code",
   "execution_count": 2,
   "metadata": {},
   "outputs": [
    {
     "name": "stdout",
     "output_type": "stream",
     "text": [
      "{'color': 'red', 'price': 100, 'name': 'pen'}\n",
      "red 100 pen\n"
     ]
    }
   ],
   "source": [
    "d = dict(color='red',price=100,name='pen')\n",
    "print(d)\n",
    "print(d['color'],d['price'],d['name'])\n",
    "# 딕셔너리는 key로 호출 가능, value로는 호출불가"
   ]
  },
  {
   "cell_type": "code",
   "execution_count": 3,
   "metadata": {},
   "outputs": [
    {
     "name": "stdout",
     "output_type": "stream",
     "text": [
      "color red,price 100,name pen,\n",
      "('color', 'red'), ('price', 100), ('name', 'pen'), \n",
      "color red, price 100, name pen, \n",
      "color red, price 100, name pen, "
     ]
    },
    {
     "data": {
      "text/plain": [
       "<function print>"
      ]
     },
     "execution_count": 3,
     "metadata": {},
     "output_type": "execute_result"
    }
   ],
   "source": [
    "# 딕셔너리, for문은 key값을 뽑는다, \n",
    "# 그 key값으로 딕셔너리 호출할 수 있다\n",
    "for k in d:\n",
    "    print(k,d[k], end=',')\n",
    "print()\n",
    "\n",
    "for i in d.items():\n",
    "    print(i,end=', ')\n",
    "print()\n",
    "\n",
    "#인덱스[0[를 지정하면, 괄호 없이 추출 가능\n",
    "for i in d.items():\n",
    "    print(i[0],i[1], end=', ')\n",
    "print()\n",
    "\n",
    "# items()를 통해 딕셔너리 값 동시 두개 추출 가능\n",
    "for k,v in d.items():\n",
    "    print(k,v,end=', ')\n",
    "print"
   ]
  },
  {
   "cell_type": "code",
   "execution_count": 4,
   "metadata": {},
   "outputs": [
    {
     "name": "stdout",
     "output_type": "stream",
     "text": [
      "{'color': 'red', 'price': 100, 'name': 'pen', 'sky': '푸른하늘'}\n",
      "['color', 'price', 'name', 'sky']\n",
      "[('color', 'red'), ('price', 100), ('name', 'pen'), ('sky', '푸른하늘')]\n",
      "{'color': 'red', 'price': 100, 'name': 'pen', 'sky': '푸른하늘'}\n"
     ]
    }
   ],
   "source": [
    "d['sky']='하늘'\n",
    "d['sky']='푸른하늘'\n",
    "print(d)\n",
    "\n",
    "e = list(d) ; print(e) # 키 값으로 구성된 리스트\n",
    "f = list(d.items()) ; print(f) #(key,value)로 구성된 리스트\n",
    "t1 = dict(f) ; print(t1) # 딕셔너리로 {key:value}로 구성\n"
   ]
  },
  {
   "cell_type": "code",
   "execution_count": 8,
   "metadata": {},
   "outputs": [
    {
     "name": "stdout",
     "output_type": "stream",
     "text": [
      "{'red': 'color', 100: 'price', 'pen': 'name', '푸른하늘': 'sky'}\n"
     ]
    }
   ],
   "source": [
    "# 파이썬 딕셔너리 {} 사용\n",
    "n1 = {}\n",
    "\n",
    "# {value,key}를 교체해서 저장\n",
    "for k,v in d.items():\n",
    "    n1[v]=k\n",
    "    \n",
    "print(n1)"
   ]
  },
  {
   "cell_type": "code",
   "execution_count": 10,
   "metadata": {},
   "outputs": [
    {
     "name": "stdout",
     "output_type": "stream",
     "text": [
      "{'red': 'color', 100: 'price', 'pen': 'name', '푸른하늘': 'sky'}\n",
      "{'color': 'red', 'price': 100, 'name': 'pen', 'sky': '푸른하늘'}\n"
     ]
    }
   ],
   "source": [
    "n2 = {}\n",
    "\n",
    "for k in d: # k는 key\n",
    "    n2[d[k]]=k #d[k]는 value\n",
    "    \n",
    "n3 = {}\n",
    "\n",
    "for k in d:\n",
    "    n3[k]=d[k]\n",
    "print(n2)\n",
    "\n",
    "print(n3)"
   ]
  },
  {
   "cell_type": "code",
   "execution_count": 6,
   "metadata": {},
   "outputs": [
    {
     "name": "stdout",
     "output_type": "stream",
     "text": [
      "dict_keys(['color', 'price', 'name', 'sky'])\n",
      "dict_values(['red', 100, 'pen', '푸른하늘'])\n",
      "dict_items([('color', 'red'), ('price', 100), ('name', 'pen'), ('sky', '푸른하늘')])\n"
     ]
    }
   ],
   "source": [
    "print(d.keys())\n",
    "print(d.values())\n",
    "print(d.items())"
   ]
  },
  {
   "cell_type": "code",
   "execution_count": null,
   "metadata": {},
   "outputs": [],
   "source": []
  }
 ],
 "metadata": {
  "kernelspec": {
   "display_name": "openmmlab",
   "language": "python",
   "name": "python3"
  },
  "language_info": {
   "codemirror_mode": {
    "name": "ipython",
    "version": 3
   },
   "file_extension": ".py",
   "mimetype": "text/x-python",
   "name": "python",
   "nbconvert_exporter": "python",
   "pygments_lexer": "ipython3",
   "version": "3.8.13"
  },
  "orig_nbformat": 4,
  "vscode": {
   "interpreter": {
    "hash": "62d091a3f39b7b83543f4961273f074de48cf146eaa3b2faa7b58f34fe93f53e"
   }
  }
 },
 "nbformat": 4,
 "nbformat_minor": 2
}
