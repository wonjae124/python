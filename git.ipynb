{
 "cells": [
  {
   "cell_type": "code",
   "execution_count": 1,
   "metadata": {},
   "outputs": [
    {
     "name": "stdout",
     "output_type": "stream",
     "text": [
      "[[0, 0, 0, 0], [0, 0, 0, 0], [0, 0, 0, 0], [0, 0, 0, 0]]\n"
     ]
    },
    {
     "ename": "TypeError",
     "evalue": "list indices must be integers or slices, not list",
     "output_type": "error",
     "traceback": [
      "\u001b[1;31m---------------------------------------------------------------------------\u001b[0m",
      "\u001b[1;31mTypeError\u001b[0m                                 Traceback (most recent call last)",
      "Cell \u001b[1;32mIn[1], line 41\u001b[0m\n\u001b[0;32m     38\u001b[0m ny \u001b[39m=\u001b[39m y \u001b[39m+\u001b[39m dy[direction]\n\u001b[0;32m     39\u001b[0m \u001b[39m# 회전한 이후 정면에 가보지 않은 칸 존재 \u001b[39;00m\n\u001b[1;32m---> 41\u001b[0m \u001b[39mif\u001b[39;00m d[nx][dy] \u001b[39m==\u001b[39m \u001b[39m0\u001b[39m \u001b[39mand\u001b[39;00m array[nx][ny] \u001b[39m==\u001b[39m \u001b[39m0\u001b[39m:\n\u001b[0;32m     42\u001b[0m     d[nx][dy] \u001b[39m==\u001b[39m \u001b[39m1\u001b[39m\n\u001b[0;32m     43\u001b[0m     x \u001b[39m=\u001b[39m nx\n",
      "\u001b[1;31mTypeError\u001b[0m: list indices must be integers or slices, not list"
     ]
    }
   ],
   "source": [
    "# 왼쪽 방향부터 차례대로 돌기위해서 왼쪽 방향을 쳐다보는걸 필요로 함\n",
    "n, m = map(int, input().split())\n",
    "\n",
    "# 방문 여부 기록 d[x][y]에서 행 x는 m개, 열 y는 n개\n",
    "d = [[0]*m for _ in range(n)]\n",
    "\n",
    "print(d)\n",
    "\n",
    "x, y, direction = map(int, input().split())\n",
    "\n",
    "d[x][y] = 1 # 현재 좌표 방문 처리\n",
    "\n",
    "# 전체 맵(바다, 땅) 정보 입력\n",
    "array = []\n",
    "for i in range(n):\n",
    "    array.append(list(map(int,input().split())))\n",
    "\n",
    "# 북, 동, 남, 서\n",
    "dx = [-1, 0, 1, 0]\n",
    "dy = [0, 1, 0, -1]\n",
    "\n",
    "def turn_left():\n",
    "# 왜 전역변수?\n",
    "    global direction\n",
    "    direction -= 1\n",
    "    # direction은 북:0, 동:1, 남:2, 서:3\n",
    "    if direction == -1:\n",
    "        direction = 3\n",
    "\n",
    "count=1\n",
    "turn_time = 0\n",
    "\n",
    "while True:\n",
    "    turn_left()\n",
    "    # +는 앞으로 이동\n",
    "    nx = x + dx[direction]\n",
    "    ny = y + dy[direction]\n",
    "    # 회전한 이후 정면에 가보지 않은 칸, 바다(1)가 아니고 땅(0)인 칸\n",
    "    # 회전 이전은 x,y이고 회전 이후를 nx, ny(북 -> 서 -> 남 -> 동)    \n",
    "    if d[nx][dy] == 0 and array[nx][ny] == 0:\n",
    "        d[nx][dy] == 1\n",
    "        x = nx\n",
    "        y = ny\n",
    "        count += 1\n",
    "        turn_time = 0\n",
    "        # 반복문 끝까지 아무 코드도 실행 안하고 다음 반복문으로 넘어감\n",
    "        continue\n",
    "    \n",
    "    else:\n",
    "        turn_time+=1\n",
    "    # 바라본 방향대로 다시 돌아오면 turn_time은 4이다\n",
    "    if turn_time == 4:\n",
    "    # 회전 방향 1단계 반대로 하기(ex. 북-> 동 -> 남 -> 서 )\n",
    "    # -는 뒤로 가기\n",
    "        nx = x-dx[direction]\n",
    "        ny = y-dy[direction]\n",
    "        \n",
    "        # 땅이라면 뒤로 간 지점을 내 지점으로 인식하기\n",
    "        if array[nx][ny] == 0:\n",
    "            x = nx\n",
    "            y = ny\n",
    "            \n",
    "        else:\n",
    "            break\n",
    "        turn_time  = 0\n",
    "    \n",
    "print(count)"
   ]
  }
 ],
 "metadata": {
  "kernelspec": {
   "display_name": "openmmlab",
   "language": "python",
   "name": "python3"
  },
  "language_info": {
   "codemirror_mode": {
    "name": "ipython",
    "version": 3
   },
   "file_extension": ".py",
   "mimetype": "text/x-python",
   "name": "python",
   "nbconvert_exporter": "python",
   "pygments_lexer": "ipython3",
   "version": "3.8.13 (default, Oct 19 2022, 22:38:03) [MSC v.1916 64 bit (AMD64)]"
  },
  "orig_nbformat": 4,
  "vscode": {
   "interpreter": {
    "hash": "62d091a3f39b7b83543f4961273f074de48cf146eaa3b2faa7b58f34fe93f53e"
   }
  }
 },
 "nbformat": 4,
 "nbformat_minor": 2
}
