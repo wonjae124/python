{
  "nbformat": 4,
  "nbformat_minor": 0,
  "metadata": {
    "colab": {
      "name": "kwargs_args_tutorial",
      "provenance": [],
      "collapsed_sections": [],
      "authorship_tag": "ABX9TyNaL/4I82CW8PpJeGE4RaWg",
      "include_colab_link": true
    },
    "kernelspec": {
      "name": "python3",
      "display_name": "Python 3"
    },
    "language_info": {
      "name": "python"
    }
  },
  "cells": [
    {
      "cell_type": "markdown",
      "metadata": {
        "id": "view-in-github",
        "colab_type": "text"
      },
      "source": [
        "<a href=\"https://colab.research.google.com/github/wonjae124/python/blob/main/kwargs_args_tutorial.ipynb\" target=\"_parent\"><img src=\"https://colab.research.google.com/assets/colab-badge.svg\" alt=\"Open In Colab\"/></a>"
      ]
    },
    {
      "cell_type": "markdown",
      "source": [
        "# https://brunch.co.kr/@princox/180"
      ],
      "metadata": {
        "id": "vXYDyuJLcPzi"
      }
    },
    {
      "cell_type": "markdown",
      "source": [
        "### 1. args로 여러 개의 인자를 받음, 튜플 형태로 들어온다. "
      ],
      "metadata": {
        "id": "rqBgs2zyeFcI"
      }
    },
    {
      "cell_type": "code",
      "execution_count": 14,
      "metadata": {
        "colab": {
          "base_uri": "https://localhost:8080/"
        },
        "id": "pUMcKSCUbqdI",
        "outputId": "48cd3b18-bd6c-473f-dacf-57401ae914f1"
      },
      "outputs": [
        {
          "output_type": "stream",
          "name": "stdout",
          "text": [
            "이 진수/안 정환/황 선홍/박 지성/\n",
            "\n",
            "<class 'tuple'> ('이진수', '안정환', '황선홍', '박지성')\n"
          ]
        }
      ],
      "source": [
        "def lastName_and_FirstName(*Names):\n",
        "  for name in Names:\n",
        "    print(\"%s %s\"%(name[0], name[1:3]),end='/') #name[0]은 성, name[1:3]은 이름, end는 구분자 \n",
        "  print(\"\\n\")\n",
        "  print(type(Names), Names)\n",
        "\n",
        "# lastName_and_FirstName('이진수')\n",
        "# lastName_and_FirstName('이진수','안정환')\n",
        "# lastName_and_FirstName('이진수','안정환','황선홍')\n",
        "lastName_and_FirstName('이진수','안정환','황선홍','박지성')\n",
        "\n"
      ]
    },
    {
      "cell_type": "code",
      "source": [
        "print(type(lastName_and_FirstName('이진수','안정환','황선홍','박지성')))"
      ],
      "metadata": {
        "colab": {
          "base_uri": "https://localhost:8080/"
        },
        "id": "Q6XSzcCncY66",
        "outputId": "10c6259f-c422-40b4-b469-9ca8c6fa1d4b"
      },
      "execution_count": 16,
      "outputs": [
        {
          "output_type": "stream",
          "name": "stdout",
          "text": [
            "이 진수/안 정환/황 선홍/박 지성/\n",
            "\n",
            "<class 'tuple'> ('이진수', '안정환', '황선홍', '박지성')\n",
            "<class 'NoneType'>\n"
          ]
        }
      ]
    },
    {
      "cell_type": "markdown",
      "source": [
        "## 2. keyward arguments는 딕셔너리 형태로 전달"
      ],
      "metadata": {
        "id": "eUXsLXGheqLS"
      }
    },
    {
      "cell_type": "code",
      "source": [
        "def introduceEnglishName(**kwargs):\n",
        "  for key, value in kwargs.items():\n",
        "    print(\"{0} is {1}\".format(key, value))\n",
        "    print(type(kwargs))\n",
        "introduceEnglishName(MyName='Chris!!',YourName='hanyang')"
      ],
      "metadata": {
        "colab": {
          "base_uri": "https://localhost:8080/"
        },
        "id": "4AZlR6V-eP8h",
        "outputId": "3e64a29c-09dd-44f8-dc88-b1d0cda03776"
      },
      "execution_count": 26,
      "outputs": [
        {
          "output_type": "stream",
          "name": "stdout",
          "text": [
            "MyName is Chris!!\n",
            "<class 'dict'>\n",
            "YourName is hanyang\n",
            "<class 'dict'>\n"
          ]
        }
      ]
    },
    {
      "cell_type": "code",
      "source": [
        "def introduceEnglishName(**kwargs):\n",
        "  for key, value in kwargs.items():\n",
        "    if 'ant' in kwargs.keys():\n",
        "      print(\"주인님 오셨군요. 헤헤\")\n",
        "    else:\n",
        "      print(\"{0} is {1}\".format(key, value))\n",
        "    print(type(kwargs),\"\\n\")\n",
        "    \n",
        "introduceEnglishName(MyName='Chris!!',YourName='hanyang')\n",
        "introduceEnglishName(ant='Chris!!')"
      ],
      "metadata": {
        "colab": {
          "base_uri": "https://localhost:8080/"
        },
        "id": "Huqu2QAVe9aQ",
        "outputId": "257fbc05-a626-40e7-c403-b79bdf776d56"
      },
      "execution_count": 29,
      "outputs": [
        {
          "output_type": "stream",
          "name": "stdout",
          "text": [
            "MyName is Chris!!\n",
            "<class 'dict'> \n",
            "\n",
            "YourName is hanyang\n",
            "<class 'dict'> \n",
            "\n",
            "주인님 오셨군요. 헤헤\n",
            "<class 'dict'> \n",
            "\n"
          ]
        }
      ]
    }
  ]
}