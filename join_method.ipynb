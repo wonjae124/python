{
  "nbformat": 4,
  "nbformat_minor": 0,
  "metadata": {
    "colab": {
      "provenance": [],
      "authorship_tag": "ABX9TyMd5OcHhuyhPyS7Y78ylJLd",
      "include_colab_link": true
    },
    "kernelspec": {
      "name": "python3",
      "display_name": "Python 3"
    },
    "language_info": {
      "name": "python"
    }
  },
  "cells": [
    {
      "cell_type": "markdown",
      "metadata": {
        "id": "view-in-github",
        "colab_type": "text"
      },
      "source": [
        "<a href=\"https://colab.research.google.com/github/wonjae124/python/blob/main/join_method.ipynb\" target=\"_parent\"><img src=\"https://colab.research.google.com/assets/colab-badge.svg\" alt=\"Open In Colab\"/></a>"
      ]
    },
    {
      "cell_type": "code",
      "execution_count": 1,
      "metadata": {
        "colab": {
          "base_uri": "https://localhost:8080/"
        },
        "id": "3deLGerKh0OD",
        "outputId": "c524bf34-8077-48dc-e828-617a08fc9511"
      },
      "outputs": [
        {
          "output_type": "stream",
          "name": "stdout",
          "text": [
            "['a', 'b', 'c', 'd', 'e', '1', '2', '3']\n"
          ]
        }
      ],
      "source": [
        "a = ['a', 'b', 'c', 'd', 'e', '1', '2', '3']\n",
        "print(a)"
      ]
    },
    {
      "cell_type": "code",
      "source": [
        "result = ''.join(a)\n",
        "print(result)"
      ],
      "metadata": {
        "colab": {
          "base_uri": "https://localhost:8080/"
        },
        "id": "MxLHBuFsh4ZC",
        "outputId": "61a60a79-34fe-4b39-c55c-d48be6a5af8f"
      },
      "execution_count": 2,
      "outputs": [
        {
          "output_type": "stream",
          "name": "stdout",
          "text": [
            "abcde123\n"
          ]
        }
      ]
    },
    {
      "cell_type": "code",
      "source": [
        "a = ['BlockDMask','Python','join','example']\n",
        "print(a)"
      ],
      "metadata": {
        "colab": {
          "base_uri": "https://localhost:8080/"
        },
        "id": "ADruq0ikh7ap",
        "outputId": "cc2613bd-f9b6-4070-d1cd-12123d7c84bf"
      },
      "execution_count": 10,
      "outputs": [
        {
          "output_type": "stream",
          "name": "stdout",
          "text": [
            "['BlockDMask', 'Python', 'join', 'example']\n"
          ]
        }
      ]
    },
    {
      "cell_type": "code",
      "source": [
        "result1 = \"_\".join(a)\n",
        "print(result1)"
      ],
      "metadata": {
        "colab": {
          "base_uri": "https://localhost:8080/"
        },
        "id": "F0GiPQc0iCy4",
        "outputId": "f10a36cf-bd3b-455e-f4d8-468aba8fb904"
      },
      "execution_count": 11,
      "outputs": [
        {
          "output_type": "stream",
          "name": "stdout",
          "text": [
            "BlockDMask_Python_join_example\n"
          ]
        }
      ]
    },
    {
      "cell_type": "code",
      "source": [
        "result2 = \".\".join(a)\n",
        "print(result2)"
      ],
      "metadata": {
        "colab": {
          "base_uri": "https://localhost:8080/"
        },
        "id": "EZR4ySusieju",
        "outputId": "83da7083-5713-42f6-e813-4b2543ed4d40"
      },
      "execution_count": 12,
      "outputs": [
        {
          "output_type": "stream",
          "name": "stdout",
          "text": [
            "BlockDMask.Python.join.example\n"
          ]
        }
      ]
    },
    {
      "cell_type": "code",
      "source": [
        "a = ['BlockDMask','Python','example','happy new year']\n",
        "print(a)\n",
        "\n",
        "result = \".\\n\".join(a)\n",
        "print(result)"
      ],
      "metadata": {
        "colab": {
          "base_uri": "https://localhost:8080/"
        },
        "id": "pQwvtRb3igmG",
        "outputId": "267ead14-9093-4b61-e705-07694d0b86b3"
      },
      "execution_count": 13,
      "outputs": [
        {
          "output_type": "stream",
          "name": "stdout",
          "text": [
            "['BlockDMask', 'Python', 'example', 'happy new year']\n",
            "BlockDMask.\n",
            "Python.\n",
            "example.\n",
            "happy new year\n"
          ]
        }
      ]
    },
    {
      "cell_type": "code",
      "source": [],
      "metadata": {
        "id": "lte1PNvPiqad"
      },
      "execution_count": null,
      "outputs": []
    }
  ]
}