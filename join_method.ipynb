{
  "nbformat": 4,
  "nbformat_minor": 0,
  "metadata": {
    "colab": {
      "provenance": [],
      "authorship_tag": "ABX9TyOSLv1bZf2t373gV6IxKfap",
      "include_colab_link": true
    },
    "kernelspec": {
      "name": "python3",
      "display_name": "Python 3"
    },
    "language_info": {
      "name": "python"
    }
  },
  "cells": [
    {
      "cell_type": "markdown",
      "metadata": {
        "id": "view-in-github",
        "colab_type": "text"
      },
      "source": [
        "<a href=\"https://colab.research.google.com/github/wonjae124/python/blob/main/join_method.ipynb\" target=\"_parent\"><img src=\"https://colab.research.google.com/assets/colab-badge.svg\" alt=\"Open In Colab\"/></a>"
      ]
    },
    {
      "cell_type": "code",
      "execution_count": 19,
      "metadata": {
        "colab": {
          "base_uri": "https://localhost:8080/"
        },
        "id": "sH6fDtOuKhjW",
        "outputId": "9065bb78-13bd-4fd2-a8e7-ba92b48ebe06"
      },
      "outputs": [
        {
          "output_type": "stream",
          "name": "stdout",
          "text": [
            "342321151\n"
          ]
        }
      ],
      "source": [
        "# join 메소드\n",
        "# 리스트를 문자열로 바꾸어주는 함수\n",
        "# 조인 앞에는 붙여줄 때 같이 붙을 수를 말한다. 단, 문자열로 말이다.\n",
        "# 뒤에도 문자열이 들와야 한다.\n",
        "i = ['1','21','34','23','15']\n",
        "k = [str(x) for x in i]\n",
        "# default는 문자는 사전순서 ABCDE, 숫자는 오름차순 12345\n",
        "# 4번 반복한 이유는 \n",
        "k.sort(key = lambda x : (x*4)[:4],reverse=True)\n",
        "answer = ''.join(k)\n",
        "print(answer)"
      ]
    },
    {
      "cell_type": "code",
      "source": [
        "k"
      ],
      "metadata": {
        "colab": {
          "base_uri": "https://localhost:8080/"
        },
        "id": "wQpZs6rmNVUy",
        "outputId": "a9971ae5-05da-42f1-be1a-f1c0e9b8e643"
      },
      "execution_count": 12,
      "outputs": [
        {
          "output_type": "execute_result",
          "data": {
            "text/plain": [
              "['34', '23', '21', '15', '1']"
            ]
          },
          "metadata": {},
          "execution_count": 12
        }
      ]
    },
    {
      "cell_type": "code",
      "source": [
        "print('/'.join('31321'))"
      ],
      "metadata": {
        "colab": {
          "base_uri": "https://localhost:8080/"
        },
        "id": "oV-cJlarK9sN",
        "outputId": "f5084822-3cae-4cf0-de74-e44f4a797fbb"
      },
      "execution_count": 3,
      "outputs": [
        {
          "output_type": "stream",
          "name": "stdout",
          "text": [
            "3/1/3/2/1\n"
          ]
        }
      ]
    },
    {
      "cell_type": "code",
      "source": [
        "print('/'.join(i))"
      ],
      "metadata": {
        "id": "CDG4XNJEKrrn"
      },
      "execution_count": null,
      "outputs": []
    }
  ]
}