{
 "cells": [
  {
   "cell_type": "code",
   "execution_count": 1,
   "id": "1431d752",
   "metadata": {},
   "outputs": [
    {
     "name": "stdout",
     "output_type": "stream",
     "text": [
      "i Likecake and banana     very much\n"
     ]
    }
   ],
   "source": [
    "txt = \"    cake and banana     \"\n",
    "x= txt.lstrip()\n",
    "print('i Like'+x+'very much')\n",
    "#파이썬의 lstrip은 왼쪽 빈 공간을 제거한다."
   ]
  },
  {
   "cell_type": "code",
   "execution_count": 2,
   "id": "f6c267f2",
   "metadata": {},
   "outputs": [
    {
     "name": "stdout",
     "output_type": "stream",
     "text": [
      "banana\n"
     ]
    }
   ],
   "source": [
    "txt = \",,,ssaaww.....banana\"\n",
    "x= txt.lstrip(',.,was.na')\n",
    "print(x)\n",
    "#파이썬의 lstrip은 특정 문자를 제거하기도 함"
   ]
  },
  {
   "cell_type": "code",
   "execution_count": 4,
   "id": "81251944",
   "metadata": {},
   "outputs": [
    {
     "name": "stdout",
     "output_type": "stream",
     "text": [
      "<class 'list'>\n",
      "<class 'tuple'>\n",
      "<class 'list'>\n"
     ]
    }
   ],
   "source": [
    "a=[1,2,3] #리스트\n",
    "b=(1,2,3) #튜플\n",
    "c=[ [1,2,3]] #리스트\n",
    "\n",
    "print(type(a)) \n",
    "print(type(b))\n",
    "print(type(c))\n",
    "\n",
    "#클래스(구조체)형태 - print함수의 type파라미터 이용\n",
    "#오브젝트(객체)형태 - dtype을 사용한다. \n",
    "\n"
   ]
  },
  {
   "cell_type": "code",
   "execution_count": null,
   "id": "caa90db4",
   "metadata": {},
   "outputs": [],
   "source": []
  },
  {
   "cell_type": "code",
   "execution_count": null,
   "id": "344ddf31",
   "metadata": {},
   "outputs": [],
   "source": []
  },
  {
   "cell_type": "code",
   "execution_count": null,
   "id": "9965b6be",
   "metadata": {},
   "outputs": [],
   "source": []
  },
  {
   "cell_type": "code",
   "execution_count": null,
   "id": "6883a61f",
   "metadata": {},
   "outputs": [],
   "source": []
  }
 ],
 "metadata": {
  "kernelspec": {
   "display_name": "Python 3",
   "language": "python",
   "name": "python3"
  },
  "language_info": {
   "codemirror_mode": {
    "name": "ipython",
    "version": 3
   },
   "file_extension": ".py",
   "mimetype": "text/x-python",
   "name": "python",
   "nbconvert_exporter": "python",
   "pygments_lexer": "ipython3",
   "version": "3.6.13"
  }
 },
 "nbformat": 4,
 "nbformat_minor": 5
}
