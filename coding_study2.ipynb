{
 "cells": [
  {
   "cell_type": "code",
   "execution_count": 15,
   "metadata": {},
   "outputs": [
    {
     "name": "stdout",
     "output_type": "stream",
     "text": [
      "[1, 3, 10, 5, 8]\n"
     ]
    }
   ],
   "source": [
    "import heapq\n",
    "# 파이썬에서 heapq 패키지는 최소힙으로 구성, value가 최소인 값이 root node에 할당 된다\n",
    "# 레벨0 -> 레벨1 -> 레벨 2 순으로 좌에서 우 방향으로 저장한다.\n",
    "\n",
    "heap = []\n",
    "heapq.heappush(heap,3) # heapq패키지의 heappush를 통해서 insert한다.\n",
    "heapq.heappush(heap,1)\n",
    "heapq.heappush(heap,10)\n",
    "heapq.heappush(heap,5)\n",
    "heapq.heappush(heap,8)\n",
    "\n",
    "print(heap)"
   ]
  },
  {
   "cell_type": "code",
   "execution_count": 16,
   "metadata": {},
   "outputs": [
    {
     "name": "stdout",
     "output_type": "stream",
     "text": [
      "5\n",
      "1\n"
     ]
    }
   ],
   "source": [
    "print(len(heap))\n",
    "print(heap[0])"
   ]
  },
  {
   "cell_type": "code",
   "execution_count": 7,
   "metadata": {},
   "outputs": [
    {
     "name": "stdout",
     "output_type": "stream",
     "text": [
      "[]\n"
     ]
    }
   ],
   "source": [
    "heapq.heappop(heap) # heapq 패키지의 heappop 함수를 통해 delete한다. 루트노드부터 제거한다.\n",
    "print(heap)"
   ]
  },
  {
   "cell_type": "code",
   "execution_count": 19,
   "metadata": {},
   "outputs": [
    {
     "name": "stdout",
     "output_type": "stream",
     "text": [
      "0\n",
      "2\n",
      "1\n",
      "3\n",
      "2\n",
      "1\n"
     ]
    },
    {
     "ename": "ValueError",
     "evalue": "invalid literal for int() with base 10: ''",
     "output_type": "error",
     "traceback": [
      "\u001b[1;31m---------------------------------------------------------------------------\u001b[0m",
      "\u001b[1;31mValueError\u001b[0m                                Traceback (most recent call last)",
      "Cell \u001b[1;32mIn[19], line 8\u001b[0m\n\u001b[0;32m      5\u001b[0m heap \u001b[39m=\u001b[39m []\n\u001b[0;32m      7\u001b[0m \u001b[39mfor\u001b[39;00m i \u001b[39min\u001b[39;00m \u001b[39mrange\u001b[39m(N):\n\u001b[1;32m----> 8\u001b[0m     value \u001b[39m=\u001b[39m \u001b[39mint\u001b[39;49m(\u001b[39minput\u001b[39;49m())\u001b[39m*\u001b[39m(\u001b[39m-\u001b[39m\u001b[39m1\u001b[39m)\n\u001b[0;32m      9\u001b[0m     \u001b[39mif\u001b[39;00m value \u001b[39m!=\u001b[39m \u001b[39m0\u001b[39m:\n\u001b[0;32m     10\u001b[0m         heapq\u001b[39m.\u001b[39mheappush(heap,value)\n",
      "\u001b[1;31mValueError\u001b[0m: invalid literal for int() with base 10: ''"
     ]
    }
   ],
   "source": [
    "# 백준11279번, 최대힙(실버2)\n",
    "import heapq\n",
    "\n",
    "N = int(input())\n",
    "heap = []\n",
    "\n",
    "for i in range(N):\n",
    "    value = int(input())*(-1)\n",
    "    if value != 0:\n",
    "        heapq.heappush(heap,value)\n",
    "    elif len(heap)==0:\n",
    "        print(0)\n",
    "    else:\n",
    "        print(heap[0]*-1)\n",
    "        heapq.heappop(heap)\n",
    "        "
   ]
  },
  {
   "cell_type": "code",
   "execution_count": 22,
   "metadata": {},
   "outputs": [
    {
     "name": "stdout",
     "output_type": "stream",
     "text": [
      "[(1, 2, 3), (1, 2, 4), (1, 3, 4), (2, 3, 4)]\n",
      "[(0, 1), (0, 2), (0, 3), (1, 2), (1, 3), (2, 3)]\n"
     ]
    }
   ],
   "source": [
    "# itertools 패키지의 combinations 함수로 조합을 구함\n",
    "from itertools import combinations \n",
    "print(list(combinations([1,2,3,4,],3)))\n",
    "print(list(combinations([0,1,2,3],2)))"
   ]
  },
  {
   "cell_type": "code",
   "execution_count": 47,
   "metadata": {},
   "outputs": [
    {
     "name": "stdout",
     "output_type": "stream",
     "text": [
      "('1', '2')\n",
      "1 2\n",
      "('1', '3')\n",
      "1 3\n",
      "('1', '4')\n",
      "1 4\n",
      "('2', '1')\n",
      "2 1\n",
      "('2', '3')\n",
      "2 3\n",
      "('2', '4')\n",
      "2 4\n",
      "('3', '1')\n",
      "3 1\n",
      "('3', '2')\n",
      "3 2\n",
      "('3', '4')\n",
      "3 4\n",
      "('4', '1')\n",
      "4 1\n",
      "('4', '2')\n",
      "4 2\n",
      "('4', '3')\n",
      "4 3\n"
     ]
    }
   ],
   "source": [
    "# 용시코3편, 백준 15649, 조합, 실버3\n",
    "from itertools import permutations\n",
    "\n",
    "\n",
    "N,M = map(int,input().split())\n",
    "arr = []\n",
    "\n",
    "arr = [str(x) for x in range(1,N+1)]\n",
    "no_nPr = permutations(arr,M)\n",
    "# list로 감싸거나 없어도 for문에서 가능하지만, 대괄호로 감싸면 이상하게 오류 발생한다.. join이 불가능하다고 말이다. \n",
    "# list_nPr = list(permutations(arr,M)) \n",
    "# big_nPr = [permutations(arr,M)]\n",
    "\n",
    "for i in no_nPr:\n",
    "    print(\" \".join(i)) # join은 문자열만 합칠 수 있다\n",
    "\n",
    "#for i in list(permutations(arr,M)):\n",
    "#print(nPr)\n",
    "# for j in range(len(nPr)):\n",
    "#      print(nPr[j][0],nPr[j][1])"
   ]
  },
  {
   "cell_type": "code",
   "execution_count": 37,
   "metadata": {},
   "outputs": [
    {
     "data": {
      "text/plain": [
       "[('1', '2'),\n",
       " ('1', '3'),\n",
       " ('1', '4'),\n",
       " ('2', '1'),\n",
       " ('2', '3'),\n",
       " ('2', '4'),\n",
       " ('3', '1'),\n",
       " ('3', '2'),\n",
       " ('3', '4'),\n",
       " ('4', '1'),\n",
       " ('4', '2'),\n",
       " ('4', '3')]"
      ]
     },
     "execution_count": 37,
     "metadata": {},
     "output_type": "execute_result"
    }
   ],
   "source": [
    "list_nPr"
   ]
  },
  {
   "cell_type": "code",
   "execution_count": 38,
   "metadata": {},
   "outputs": [
    {
     "data": {
      "text/plain": [
       "[<itertools.permutations at 0x1482a5e2d10>]"
      ]
     },
     "execution_count": 38,
     "metadata": {},
     "output_type": "execute_result"
    }
   ],
   "source": [
    "big_npr"
   ]
  },
  {
   "cell_type": "code",
   "execution_count": 33,
   "metadata": {},
   "outputs": [
    {
     "data": {
      "text/plain": [
       "[('hi', 3), ('hey', 2), ('hello', 1)]"
      ]
     },
     "execution_count": 33,
     "metadata": {},
     "output_type": "execute_result"
    }
   ],
   "source": [
    "# Counter 함수\n",
    "# 배열을 인자(파라미터)로 넘기면, 각 원소가 몇 번씩 나오는지 알려주는 객체이다.\n",
    "# Counter(인자).most_common(표현 할 수), 표현 할 수에 1을 넣어서 최빈값으로 표현 가능 \n",
    "from collections import Counter\n",
    "Counter([\"hi\",\"hey\",\"hi\",\"hi\",\"hello\",\"hey\"]).most_common(3)"
   ]
  },
  {
   "cell_type": "code",
   "execution_count": 3,
   "metadata": {},
   "outputs": [
    {
     "data": {
      "text/plain": [
       "Counter({'H': 1,\n",
       "         'e': 1,\n",
       "         'l': 3,\n",
       "         'o': 2,\n",
       "         ' ': 1,\n",
       "         'w': 1,\n",
       "         'r': 1,\n",
       "         'd': 1,\n",
       "         '!': 1})"
      ]
     },
     "execution_count": 3,
     "metadata": {},
     "output_type": "execute_result"
    }
   ],
   "source": [
    "Counter(\"Hello world!\") # 문자열을 인자로 넘기면, 각 문자가 몇 번씩 나오는지 알려주는 객체가 나온다"
   ]
  },
  {
   "cell_type": "code",
   "execution_count": 9,
   "metadata": {},
   "outputs": [
    {
     "data": {
      "text/plain": [
       "2"
      ]
     },
     "execution_count": 9,
     "metadata": {},
     "output_type": "execute_result"
    }
   ],
   "source": [
    "# 키를 통해서 값을 반환할 수 있다. 이 때, 대괄호로 인자 넣어준다.\n",
    "counter = Counter(\"Hello world\")\n",
    "counter[\"o\"]"
   ]
  },
  {
   "cell_type": "code",
   "execution_count": 10,
   "metadata": {},
   "outputs": [
    {
     "data": {
      "text/plain": [
       "Counter({'H': 1, 'e': 1, 'l': 3, 'o': 2, ' ': 1, 'w': 1, 'r': 1, 'd': 1})"
      ]
     },
     "execution_count": 10,
     "metadata": {},
     "output_type": "execute_result"
    }
   ],
   "source": [
    "counter"
   ]
  },
  {
   "cell_type": "code",
   "execution_count": 11,
   "metadata": {},
   "outputs": [],
   "source": [
    "counter[\"o\"]+=1"
   ]
  },
  {
   "cell_type": "code",
   "execution_count": 12,
   "metadata": {},
   "outputs": [
    {
     "data": {
      "text/plain": [
       "Counter({'H': 1, 'e': 1, 'l': 3, 'o': 3, ' ': 1, 'w': 1, 'r': 1, 'd': 1})"
      ]
     },
     "execution_count": 12,
     "metadata": {},
     "output_type": "execute_result"
    }
   ],
   "source": [
    "counter"
   ]
  },
  {
   "cell_type": "code",
   "execution_count": 14,
   "metadata": {},
   "outputs": [
    {
     "name": "stdout",
     "output_type": "stream",
     "text": [
      "o in counter\n",
      "o in not counter\n"
     ]
    }
   ],
   "source": [
    "if \"o\" in counter:\n",
    "    print(\"o in counter\")\n",
    "    \n",
    "del counter[\"o\"]\n",
    "\n",
    "if \"o\" not in counter:\n",
    "    print(\"o in not counter\")"
   ]
  },
  {
   "cell_type": "code",
   "execution_count": 38,
   "metadata": {},
   "outputs": [
    {
     "name": "stdout",
     "output_type": "stream",
     "text": [
      "37\n",
      "[(30, 3)]\n"
     ]
    }
   ],
   "source": [
    "# 백준 2592 대표값, 브론즈2\n",
    "# 10개의 자연수가 주어질 떄 이들의 평균과 최빈값을 구하는 프로그램을 작성하시오\n",
    "from collections import Counter\n",
    "\n",
    "sum=0\n",
    "N=10\n",
    "mean = 0\n",
    "freq = 0 \n",
    "arr = []\n",
    "for i in range(N):\n",
    "    value = int(input())\n",
    "    sum+=value\n",
    "    arr.append(value)\n",
    "    \n",
    "mean = sum//N\n",
    "counter = Counter(arr).most_common(1)\n",
    "print(mean,counter[0],sep = \"\\n\")\n"
   ]
  },
  {
   "cell_type": "code",
   "execution_count": 1,
   "metadata": {},
   "outputs": [],
   "source": [
    "from collections import Counter\n",
    "\n",
    "arr = [int(input()) for _ in range(10)]\n",
    "val = Counter(arr).most_common(1)\n",
    "\n",
    "print(sum(arr)//10,val[0][0],sep = \"\\n\")\n"
   ]
  },
  {
   "cell_type": "code",
   "execution_count": 18,
   "metadata": {},
   "outputs": [
    {
     "name": "stdout",
     "output_type": "stream",
     "text": [
      "?\n"
     ]
    }
   ],
   "source": [
    "# 백준 1157번, 단어 공부, 브론즈1\n",
    "# 문자열 소문자 -> 대문자, string.upper()\n",
    "# 대문자 -> 소문자, string.lower()\n",
    "# 대문자인지 확인, string.isupper()\n",
    "from collections import Counter\n",
    "\n",
    "arr = str(input()).upper()\n",
    "if len(arr)==1:\n",
    "    print(arr[0])\n",
    "else:\n",
    "    val = Counter(arr).most_common(2)\n",
    "    if val[0][1] == val[1][1]:\n",
    "        print(\"?\")\n",
    "    else:\n",
    "        print(val[0][0])"
   ]
  },
  {
   "cell_type": "code",
   "execution_count": 14,
   "metadata": {},
   "outputs": [
    {
     "data": {
      "text/plain": [
       "[('I', 4), ('S', 4)]"
      ]
     },
     "execution_count": 14,
     "metadata": {},
     "output_type": "execute_result"
    }
   ],
   "source": [
    "val"
   ]
  },
  {
   "cell_type": "code",
   "execution_count": 39,
   "metadata": {},
   "outputs": [
    {
     "data": {
      "text/plain": [
       "[10, 40, 30, 60, 30, 20, 60, 30, 40, 50]"
      ]
     },
     "execution_count": 39,
     "metadata": {},
     "output_type": "execute_result"
    }
   ],
   "source": [
    "arr"
   ]
  },
  {
   "cell_type": "code",
   "execution_count": 20,
   "metadata": {},
   "outputs": [
    {
     "name": "stdout",
     "output_type": "stream",
     "text": [
      "0\n",
      "1\n",
      "2\n",
      "12345678\n",
      "0\n"
     ]
    }
   ],
   "source": [
    "#백준 1927, 최소 힙, 실버2\n",
    "import heapq\n",
    "\n",
    "N = int(input())\n",
    "arr = []\n",
    "for i in range(N):\n",
    "    value = int(input())\n",
    "    if value == 0:\n",
    "        if len(arr)==0:\n",
    "            print(\"0\")\n",
    "        else:\n",
    "            print(arr[0])\n",
    "            heapq.heappop(arr)\n",
    "    else:\n",
    "        heapq.heappush(arr,value)\n"
   ]
  },
  {
   "cell_type": "code",
   "execution_count": 44,
   "metadata": {},
   "outputs": [
    {
     "name": "stdout",
     "output_type": "stream",
     "text": [
      "[(1, -1), (1, 1), (2, -2), (2, 2)]\n"
     ]
    }
   ],
   "source": [
    "arr = []\n",
    "heapq.heappush(arr,(1,-1))\n",
    "heapq.heappush(arr,(1,1))\n",
    "heapq.heappush(arr,(2,-2))\n",
    "heapq.heappush(arr,(2,2))\n",
    "print(arr)\n",
    "#print(heapq.heappop(arr))"
   ]
  },
  {
   "cell_type": "code",
   "execution_count": 45,
   "metadata": {},
   "outputs": [
    {
     "name": "stdout",
     "output_type": "stream",
     "text": [
      "-1\n",
      "1\n",
      "0\n",
      "-1\n",
      "-1\n",
      "1\n",
      "1\n",
      "-2\n",
      "2\n",
      "0\n"
     ]
    }
   ],
   "source": [
    "#백준 1128번, 절댓값 힙, 실버1\n",
    "N = int(input())\n",
    "arr = []\n",
    "for i in range(N):\n",
    "    value = int(input())\n",
    "    if value == 0:\n",
    "        if len(arr) == 0:\n",
    "            print(\"0\")\n",
    "        else:\n",
    "            print(heapq.heappop(arr)[1])\n",
    "    else:\n",
    "        heapq.heappush(arr,(abs(value),value))           "
   ]
  },
  {
   "cell_type": "code",
   "execution_count": 1,
   "metadata": {},
   "outputs": [
    {
     "name": "stdout",
     "output_type": "stream",
     "text": [
      "deque([1, 2, 3, 4])\n"
     ]
    }
   ],
   "source": [
    "# 스택 문제를 풀기 위한, deque\n",
    "from collections import deque\n",
    "deq = deque()\n",
    "deq = deque([i for i in range(1,5)])\n",
    "print(deq)\n"
   ]
  },
  {
   "cell_type": "code",
   "execution_count": 2,
   "metadata": {},
   "outputs": [
    {
     "name": "stdout",
     "output_type": "stream",
     "text": [
      "deque([10, 1, 2, 3, 4])\n"
     ]
    }
   ],
   "source": [
    "# deq의 왼쪽에 추가\n",
    "deq.appendleft(10)\n",
    "print(deq)"
   ]
  },
  {
   "cell_type": "code",
   "execution_count": 4,
   "metadata": {},
   "outputs": [
    {
     "name": "stdout",
     "output_type": "stream",
     "text": [
      "deque([10, 1, 2, 3, 4, 20, 20])\n"
     ]
    }
   ],
   "source": [
    "# deq의 우측에 추가\n",
    "deq.append(20)\n",
    "print(deq)"
   ]
  },
  {
   "cell_type": "code",
   "execution_count": 5,
   "metadata": {},
   "outputs": [
    {
     "name": "stdout",
     "output_type": "stream",
     "text": [
      "deque([10, 1, 2, 3, 4, 20])\n"
     ]
    }
   ],
   "source": [
    "# deq의 우측 삭제\n",
    "deq.pop()\n",
    "print(deq)"
   ]
  },
  {
   "cell_type": "code",
   "execution_count": 6,
   "metadata": {},
   "outputs": [
    {
     "name": "stdout",
     "output_type": "stream",
     "text": [
      "10\n",
      "deque([1, 2, 3, 4, 20])\n"
     ]
    }
   ],
   "source": [
    "# 좌측 삭제\n",
    "print(deq.popleft())\n",
    "print(deq)"
   ]
  },
  {
   "cell_type": "code",
   "execution_count": 7,
   "metadata": {},
   "outputs": [
    {
     "data": {
      "text/plain": [
       "5"
      ]
     },
     "execution_count": 7,
     "metadata": {},
     "output_type": "execute_result"
    }
   ],
   "source": [
    "len(deq)"
   ]
  },
  {
   "cell_type": "code",
   "execution_count": 15,
   "metadata": {},
   "outputs": [
    {
     "name": "stdout",
     "output_type": "stream",
     "text": [
      "deque([20, 1, 2, 3, 4])\n"
     ]
    }
   ],
   "source": [
    "deq.rotate(-2) # 맨 왼쪽 값이 맨 우측으로 들어가고, 나머지 수들은 왼쪽(앞)으로 당겨진다\n",
    "print(deq)"
   ]
  },
  {
   "cell_type": "code",
   "execution_count": 13,
   "metadata": {},
   "outputs": [
    {
     "data": {
      "text/plain": [
       "1"
      ]
     },
     "execution_count": 13,
     "metadata": {},
     "output_type": "execute_result"
    }
   ],
   "source": [
    "deq[0]"
   ]
  },
  {
   "cell_type": "code",
   "execution_count": 18,
   "metadata": {},
   "outputs": [
    {
     "name": "stdout",
     "output_type": "stream",
     "text": [
      "4\n"
     ]
    }
   ],
   "source": [
    "# 백준 2164, 카드2, 실버4\n",
    "# 카드가 한 장 남을 때까지, 반복한다. \n",
    "# 반복작업은 맨 앞의 값을 제거하고 그 이후의 값은 회전시키는거다.\n",
    "\n",
    "from collections import deque\n",
    "\n",
    "N = int(input())\n",
    "deq = deque([i for i in range(1,N+1)])\n",
    "\n",
    "while(len(deq)!=1):\n",
    "    deq.popleft()\n",
    "    deq.rotate(-1)\n",
    "    \n",
    "print(deq[0])\n",
    "    "
   ]
  },
  {
   "cell_type": "code",
   "execution_count": 36,
   "metadata": {},
   "outputs": [
    {
     "name": "stdout",
     "output_type": "stream",
     "text": [
      "<class 'str'> <class 'str'>\n"
     ]
    }
   ],
   "source": [
    "# 백준 10866번, 덱, 실버4\n",
    "# 중요점 : 명령어 입력시 변수 1개로 초기화해서 리스트로 저장되도록 한다.\n",
    "# 입력 받을 때, push 할 때만, 뒤에 value가 주어져서 총 입력 수가 2개이다. 그렇다고 변수를 처음부터 2개를 만들어서 입력 받으면, front처럼 한 개만 들어올 때는 에러가 발생한다\n",
    "# 따라서, 변수를 처음부터 한 개 초기화해서 다수입력시 split()으로 쪼개, 리스트로 저장하도록 만든다. \n",
    "# 처음 두 개의 변수가 입력될 때, 형을 지정안하면 문자열 형태이다.\n",
    "from collections import deque\n",
    "\n",
    "N = int(input())\n",
    "deq = deque([])\n",
    "for i in range(N):\n",
    "    order = input().split()\n",
    "    \n",
    "    if order[0] == \"push_front\":\n",
    "        deq.appendleft(int(order[1]))\n",
    "    elif order[0] == \"push_back\":\n",
    "        deq.append(int(order[1]))\n",
    "    elif order[0] == \"front\":\n",
    "        if len(deq)==0:\n",
    "            print(\"-1\")\n",
    "        else:\n",
    "            print(deq[0])\n",
    "    elif order[0] == \"back\":\n",
    "        if len(deq)==0:\n",
    "            print(\"-1\")\n",
    "        else:\n",
    "            print(deq[-1])\n",
    "    elif order[0] == \"size\":\n",
    "        print(len(deq))\n",
    "    elif order[0] ==\"empty\":\n",
    "        if len(deq)!=0:\n",
    "            print(\"0\")\n",
    "        else:\n",
    "            print(\"1\")\n",
    "    elif order[0] ==\"pop_front\":\n",
    "        if len(deq)!=0:\n",
    "            print(deq.popleft())\n",
    "        else:\n",
    "            print(\"-1\")\n",
    "    elif order[0] ==\"pop_back\":\n",
    "        if len(deq)!=0:\n",
    "            print(deq.pop())\n",
    "        else:\n",
    "            print(\"-1\")"
   ]
  },
  {
   "cell_type": "code",
   "execution_count": 57,
   "metadata": {},
   "outputs": [
    {
     "name": "stdout",
     "output_type": "stream",
     "text": [
      "<3, 6, 2, 7, 5, 1, 4>\n"
     ]
    }
   ],
   "source": [
    "# 백준1158, 요세푸스 문제, 실버4\n",
    "from collections import deque\n",
    "\n",
    "N,K = map(int,input().split())\n",
    "deq = deque([i for i in range(1,N+1)])\n",
    "answer = []\n",
    "\n",
    "for i in range(N):\n",
    "    if len(deq)>0:\n",
    "        deq.rotate(-(K-1))\n",
    "        value = deq.popleft()\n",
    "        answer.append(value)\n",
    "\n",
    "print('<'+\", \".join(map(str,answer))+'>')\n",
    "#print('<'+str(answer)[1:-1]+'>')\n"
   ]
  }
 ],
 "metadata": {
  "kernelspec": {
   "display_name": "openmmlab",
   "language": "python",
   "name": "python3"
  },
  "language_info": {
   "codemirror_mode": {
    "name": "ipython",
    "version": 3
   },
   "file_extension": ".py",
   "mimetype": "text/x-python",
   "name": "python",
   "nbconvert_exporter": "python",
   "pygments_lexer": "ipython3",
   "version": "3.8.13"
  },
  "orig_nbformat": 4,
  "vscode": {
   "interpreter": {
    "hash": "62d091a3f39b7b83543f4961273f074de48cf146eaa3b2faa7b58f34fe93f53e"
   }
  }
 },
 "nbformat": 4,
 "nbformat_minor": 2
}
