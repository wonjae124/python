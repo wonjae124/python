{
 "cells": [
  {
   "cell_type": "code",
   "execution_count": 15,
   "metadata": {},
   "outputs": [
    {
     "name": "stdout",
     "output_type": "stream",
     "text": [
      "[1, 3, 10, 5, 8]\n"
     ]
    }
   ],
   "source": [
    "import heapq\n",
    "# 파이썬에서 heapq 패키지는 최소힙으로 구성, value가 최소인 값이 root node에 할당 된다\n",
    "# 레벨0 -> 레벨1 -> 레벨 2 순으로 좌에서 우 방향으로 저장한다.\n",
    "\n",
    "heap = []\n",
    "heapq.heappush(heap,3) # heapq패키지의 heappush를 통해서 insert한다.\n",
    "heapq.heappush(heap,1)\n",
    "heapq.heappush(heap,10)\n",
    "heapq.heappush(heap,5)\n",
    "heapq.heappush(heap,8)\n",
    "\n",
    "print(heap)"
   ]
  },
  {
   "cell_type": "code",
   "execution_count": 16,
   "metadata": {},
   "outputs": [
    {
     "name": "stdout",
     "output_type": "stream",
     "text": [
      "5\n",
      "1\n"
     ]
    }
   ],
   "source": [
    "print(len(heap))\n",
    "print(heap[0])"
   ]
  },
  {
   "cell_type": "code",
   "execution_count": 7,
   "metadata": {},
   "outputs": [
    {
     "name": "stdout",
     "output_type": "stream",
     "text": [
      "[]\n"
     ]
    }
   ],
   "source": [
    "heapq.heappop(heap) # heapq 패키지의 heappop 함수를 통해 delete한다. 루트노드부터 제거한다.\n",
    "print(heap)"
   ]
  },
  {
   "cell_type": "code",
   "execution_count": 19,
   "metadata": {},
   "outputs": [
    {
     "name": "stdout",
     "output_type": "stream",
     "text": [
      "0\n",
      "2\n",
      "1\n",
      "3\n",
      "2\n",
      "1\n"
     ]
    },
    {
     "ename": "ValueError",
     "evalue": "invalid literal for int() with base 10: ''",
     "output_type": "error",
     "traceback": [
      "\u001b[1;31m---------------------------------------------------------------------------\u001b[0m",
      "\u001b[1;31mValueError\u001b[0m                                Traceback (most recent call last)",
      "Cell \u001b[1;32mIn[19], line 8\u001b[0m\n\u001b[0;32m      5\u001b[0m heap \u001b[39m=\u001b[39m []\n\u001b[0;32m      7\u001b[0m \u001b[39mfor\u001b[39;00m i \u001b[39min\u001b[39;00m \u001b[39mrange\u001b[39m(N):\n\u001b[1;32m----> 8\u001b[0m     value \u001b[39m=\u001b[39m \u001b[39mint\u001b[39;49m(\u001b[39minput\u001b[39;49m())\u001b[39m*\u001b[39m(\u001b[39m-\u001b[39m\u001b[39m1\u001b[39m)\n\u001b[0;32m      9\u001b[0m     \u001b[39mif\u001b[39;00m value \u001b[39m!=\u001b[39m \u001b[39m0\u001b[39m:\n\u001b[0;32m     10\u001b[0m         heapq\u001b[39m.\u001b[39mheappush(heap,value)\n",
      "\u001b[1;31mValueError\u001b[0m: invalid literal for int() with base 10: ''"
     ]
    }
   ],
   "source": [
    "# 백준11279번, 최대힙(실버2)\n",
    "import heapq\n",
    "\n",
    "N = int(input())\n",
    "heap = []\n",
    "\n",
    "for i in range(N):\n",
    "    value = int(input())*(-1)\n",
    "    if value != 0:\n",
    "        heapq.heappush(heap,value)\n",
    "    elif len(heap)==0:\n",
    "        print(0)\n",
    "    else:\n",
    "        print(heap[0]*-1)\n",
    "        heapq.heappop(heap)\n",
    "        "
   ]
  },
  {
   "cell_type": "code",
   "execution_count": 22,
   "metadata": {},
   "outputs": [
    {
     "name": "stdout",
     "output_type": "stream",
     "text": [
      "[(1, 2, 3), (1, 2, 4), (1, 3, 4), (2, 3, 4)]\n",
      "[(0, 1), (0, 2), (0, 3), (1, 2), (1, 3), (2, 3)]\n"
     ]
    }
   ],
   "source": [
    "# itertools 패키지의 combinations 함수로 조합을 구함\n",
    "from itertools import combinations \n",
    "print(list(combinations([1,2,3,4,],3)))\n",
    "print(list(combinations([0,1,2,3],2)))"
   ]
  },
  {
   "cell_type": "code",
   "execution_count": 47,
   "metadata": {},
   "outputs": [
    {
     "name": "stdout",
     "output_type": "stream",
     "text": [
      "('1', '2')\n",
      "1 2\n",
      "('1', '3')\n",
      "1 3\n",
      "('1', '4')\n",
      "1 4\n",
      "('2', '1')\n",
      "2 1\n",
      "('2', '3')\n",
      "2 3\n",
      "('2', '4')\n",
      "2 4\n",
      "('3', '1')\n",
      "3 1\n",
      "('3', '2')\n",
      "3 2\n",
      "('3', '4')\n",
      "3 4\n",
      "('4', '1')\n",
      "4 1\n",
      "('4', '2')\n",
      "4 2\n",
      "('4', '3')\n",
      "4 3\n"
     ]
    }
   ],
   "source": [
    "# 용시코3편, 백준 15649, 조합, 실버3\n",
    "from itertools import permutations\n",
    "\n",
    "\n",
    "N,M = map(int,input().split())\n",
    "arr = []\n",
    "\n",
    "arr = [str(x) for x in range(1,N+1)]\n",
    "no_nPr = permutations(arr,M)\n",
    "# list로 감싸거나 없어도 for문에서 가능하지만, 대괄호로 감싸면 이상하게 오류 발생한다.. join이 불가능하다고 말이다. \n",
    "# list_nPr = list(permutations(arr,M)) \n",
    "# big_nPr = [permutations(arr,M)]\n",
    "\n",
    "for i in no_nPr:\n",
    "    print(\" \".join(i)) # join은 문자열만 합칠 수 있다\n",
    "\n",
    "#for i in list(permutations(arr,M)):\n",
    "#print(nPr)\n",
    "# for j in range(len(nPr)):\n",
    "#      print(nPr[j][0],nPr[j][1])"
   ]
  },
  {
   "cell_type": "code",
   "execution_count": 37,
   "metadata": {},
   "outputs": [
    {
     "data": {
      "text/plain": [
       "[('1', '2'),\n",
       " ('1', '3'),\n",
       " ('1', '4'),\n",
       " ('2', '1'),\n",
       " ('2', '3'),\n",
       " ('2', '4'),\n",
       " ('3', '1'),\n",
       " ('3', '2'),\n",
       " ('3', '4'),\n",
       " ('4', '1'),\n",
       " ('4', '2'),\n",
       " ('4', '3')]"
      ]
     },
     "execution_count": 37,
     "metadata": {},
     "output_type": "execute_result"
    }
   ],
   "source": [
    "list_nPr"
   ]
  },
  {
   "cell_type": "code",
   "execution_count": 38,
   "metadata": {},
   "outputs": [
    {
     "data": {
      "text/plain": [
       "[<itertools.permutations at 0x1482a5e2d10>]"
      ]
     },
     "execution_count": 38,
     "metadata": {},
     "output_type": "execute_result"
    }
   ],
   "source": [
    "big_npr"
   ]
  }
 ],
 "metadata": {
  "kernelspec": {
   "display_name": "openmmlab",
   "language": "python",
   "name": "python3"
  },
  "language_info": {
   "codemirror_mode": {
    "name": "ipython",
    "version": 3
   },
   "file_extension": ".py",
   "mimetype": "text/x-python",
   "name": "python",
   "nbconvert_exporter": "python",
   "pygments_lexer": "ipython3",
   "version": "3.8.13"
  },
  "orig_nbformat": 4,
  "vscode": {
   "interpreter": {
    "hash": "62d091a3f39b7b83543f4961273f074de48cf146eaa3b2faa7b58f34fe93f53e"
   }
  }
 },
 "nbformat": 4,
 "nbformat_minor": 2
}
