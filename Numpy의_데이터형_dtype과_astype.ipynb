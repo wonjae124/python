{
  "nbformat": 4,
  "nbformat_minor": 0,
  "metadata": {
    "colab": {
      "name": "Numpy의 데이터형 dtype과 astype",
      "provenance": [],
      "collapsed_sections": [],
      "authorship_tag": "ABX9TyO/uMnWarBWGdG5wHN1qfUI",
      "include_colab_link": true
    },
    "kernelspec": {
      "name": "python3",
      "display_name": "Python 3"
    },
    "language_info": {
      "name": "python"
    }
  },
  "cells": [
    {
      "cell_type": "markdown",
      "metadata": {
        "id": "view-in-github",
        "colab_type": "text"
      },
      "source": [
        "<a href=\"https://colab.research.google.com/github/wonjae124/python/blob/main/Numpy%EC%9D%98_%EB%8D%B0%EC%9D%B4%ED%84%B0%ED%98%95_dtype%EA%B3%BC_astype.ipynb\" target=\"_parent\"><img src=\"https://colab.research.google.com/assets/colab-badge.svg\" alt=\"Open In Colab\"/></a>"
      ]
    },
    {
      "cell_type": "code",
      "execution_count": null,
      "metadata": {
        "colab": {
          "base_uri": "https://localhost:8080/"
        },
        "id": "FoM7cVCMMlyx",
        "outputId": "2e9c23bf-4377-4325-f09b-514249665659"
      },
      "outputs": [
        {
          "output_type": "stream",
          "name": "stdout",
          "text": [
            "int64\n",
            "int64\n",
            "int64\n"
          ]
        }
      ],
      "source": [
        "#https://engineer-mole.tistory.com/85 \n",
        "\n",
        "import numpy as np\n",
        "\n",
        "a = np.array([1,2,3], dtype=np.int64)\n",
        "print(a.dtype)\n",
        "\n",
        "a = np.array([1,2,3], dtype='int64')\n",
        "print(a.dtype)\n",
        "\n",
        "a = np.array([1,2,3], dtype='i8')\n",
        "print(a.dtype)"
      ]
    },
    {
      "cell_type": "code",
      "source": [
        "print(int is np.int)\n",
        "a = np.array([1,2,3],dtype=int)\n",
        "print(a.dtype)\n",
        "a = np.array([1,2,3],dtype='int')\n",
        "print(a.dtype)"
      ],
      "metadata": {
        "colab": {
          "base_uri": "https://localhost:8080/"
        },
        "id": "F6RhSDQnWYc7",
        "outputId": "da5cc5c0-5f35-473f-9a4b-7fed5cd639de"
      },
      "execution_count": null,
      "outputs": [
        {
          "output_type": "stream",
          "name": "stdout",
          "text": [
            "True\n",
            "int64\n",
            "int64\n"
          ]
        }
      ]
    },
    {
      "cell_type": "code",
      "source": [
        "#파이썬 object형\n",
        "a_object = np.array([1,0.1,'one'], dtype=object)\n",
        "print(a_object)\n",
        "print(a_object.dtype)\n",
        "\n",
        "print(type(a_object[0]))\n",
        "print(type(a_object[1]))\n",
        "print(type(a_object[2]))\n",
        "\n",
        "a_object[2] = 'oneONE'\n",
        "print(a_object)"
      ],
      "metadata": {
        "colab": {
          "base_uri": "https://localhost:8080/"
        },
        "id": "osLcxUGAWphy",
        "outputId": "f3930bc6-dc0f-46eb-a90e-41f7612ebc6f"
      },
      "execution_count": null,
      "outputs": [
        {
          "output_type": "stream",
          "name": "stdout",
          "text": [
            "[1 0.1 'one']\n",
            "object\n",
            "<class 'int'>\n",
            "<class 'float'>\n",
            "<class 'str'>\n",
            "[1 0.1 'oneONE']\n"
          ]
        }
      ]
    },
    {
      "cell_type": "code",
      "source": [
        "#astype()를 사용한 데이터 타입 ( dtype ) 변환\n",
        "a = np.array([1,2,3])\n",
        "print(a)\n",
        "print(a.dtype)\n",
        "\n",
        "a_float = a.astype(np.float32)\n",
        "print(a_float)\n",
        "print(a_float.dtype)\n",
        "\n",
        "print(a)\n",
        "print(a.dtype)"
      ],
      "metadata": {
        "colab": {
          "base_uri": "https://localhost:8080/"
        },
        "id": "zzvW6DSYXWnB",
        "outputId": "bdff6ff1-eb69-43e0-ed31-e0139f6c65a9"
      },
      "execution_count": null,
      "outputs": [
        {
          "output_type": "stream",
          "name": "stdout",
          "text": [
            "[1 2 3]\n",
            "int64\n",
            "[1. 2. 3.]\n",
            "float32\n",
            "[1 2 3]\n",
            "int64\n"
          ]
        }
      ]
    },
    {
      "cell_type": "code",
      "source": [
        "a_float = a.astype(float)\n",
        "print(a_float)\n",
        "print(a_float.dtype)\n",
        "\n",
        "a_str = a.astype('str')\n",
        "print(a_str)\n",
        "print(a_str.dtype)\n",
        "\n",
        "a_int = a.astype('int32')\n",
        "print(a_int)\n",
        "print(a_str.dtype)"
      ],
      "metadata": {
        "colab": {
          "base_uri": "https://localhost:8080/"
        },
        "id": "zz6Jb8HXX1Uv",
        "outputId": "31155cde-d87a-444f-c095-d9a11635298d"
      },
      "execution_count": null,
      "outputs": [
        {
          "output_type": "stream",
          "name": "stdout",
          "text": [
            "[1. 2. 3.]\n",
            "float64\n",
            "['1' '2' '3']\n",
            "<U21\n",
            "[1 2 3]\n",
            "<U21\n"
          ]
        }
      ]
    },
    {
      "cell_type": "code",
      "source": [
        "# astype에서 float에서 int로 캐스트. 소수점 이하는 잘리고 마이너스 값은 0으로 반올림 됨\n",
        " \n",
        "a = np.arange(50).reshape((5,10))/10-2\n",
        "print(a)\n",
        "print(a.dtype)\n",
        "\n",
        "a_int = a.astype('int64')\n",
        "print(a_int)\n",
        "print(a_int.dtype)\n",
        "\n",
        "# 사사오입. 앞자리가 짝수면 내림하고 홀수면 올림한다.\n",
        "print( round(4.5) )\n",
        "print( round(3.5) )"
      ],
      "metadata": {
        "colab": {
          "base_uri": "https://localhost:8080/"
        },
        "id": "RYvQFDGvYHlG",
        "outputId": "f74a4000-ac57-4e3b-c1de-1ef1b7b1371a"
      },
      "execution_count": 27,
      "outputs": [
        {
          "output_type": "stream",
          "name": "stdout",
          "text": [
            "[[-2.  -1.9 -1.8 -1.7 -1.6 -1.5 -1.4 -1.3 -1.2 -1.1]\n",
            " [-1.  -0.9 -0.8 -0.7 -0.6 -0.5 -0.4 -0.3 -0.2 -0.1]\n",
            " [ 0.   0.1  0.2  0.3  0.4  0.5  0.6  0.7  0.8  0.9]\n",
            " [ 1.   1.1  1.2  1.3  1.4  1.5  1.6  1.7  1.8  1.9]\n",
            " [ 2.   2.1  2.2  2.3  2.4  2.5  2.6  2.7  2.8  2.9]]\n",
            "float64\n",
            "[[-2 -1 -1 -1 -1 -1 -1 -1 -1 -1]\n",
            " [-1  0  0  0  0  0  0  0  0  0]\n",
            " [ 0  0  0  0  0  0  0  0  0  0]\n",
            " [ 1  1  1  1  1  1  1  1  1  1]\n",
            " [ 2  2  2  2  2  2  2  2  2  2]]\n",
            "int64\n",
            "4\n",
            "4\n"
          ]
        }
      ]
    }
  ]
}