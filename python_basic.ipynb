{
  "nbformat": 4,
  "nbformat_minor": 0,
  "metadata": {
    "colab": {
      "name": "python_basic.ipynb",
      "provenance": [],
      "collapsed_sections": [],
      "authorship_tag": "ABX9TyOjuHDD7bxfGNHH8ElmGfGF",
      "include_colab_link": true
    },
    "kernelspec": {
      "name": "python3",
      "display_name": "Python 3"
    },
    "language_info": {
      "name": "python"
    }
  },
  "cells": [
    {
      "cell_type": "markdown",
      "metadata": {
        "id": "view-in-github",
        "colab_type": "text"
      },
      "source": [
        "<a href=\"https://colab.research.google.com/github/wonjae124/python/blob/main/python_basic.ipynb\" target=\"_parent\"><img src=\"https://colab.research.google.com/assets/colab-badge.svg\" alt=\"Open In Colab\"/></a>"
      ]
    },
    {
      "cell_type": "markdown",
      "source": [
        "# 리스트 표기법\n",
        "\n",
        "\n",
        "\n",
        "```\n",
        "1. expr for val in collection if condition\n",
        "\n",
        "2. \n",
        "result = []\n",
        "for val in collection:\n",
        "  if condition:\n",
        "    result.append(expr)\n",
        "```\n",
        "\n"
      ],
      "metadata": {
        "id": "7_0EtzydEWcB"
      }
    },
    {
      "cell_type": "code",
      "source": [
        "strings = ['a', 'as', 'bat', 'car', 'dove', 'python']\n",
        "[x.upper() for x in strings if len(x)>2]"
      ],
      "metadata": {
        "colab": {
          "base_uri": "https://localhost:8080/"
        },
        "id": "zMsjj9jeEUbB",
        "outputId": "66f9ed4b-75e3-453f-cdc1-25f7f9beadd4"
      },
      "execution_count": 110,
      "outputs": [
        {
          "output_type": "execute_result",
          "data": {
            "text/plain": [
              "['BAT', 'CAR', 'DOVE', 'PYTHON']"
            ]
          },
          "metadata": {},
          "execution_count": 110
        }
      ]
    },
    {
      "cell_type": "code",
      "source": [
        ""
      ],
      "metadata": {
        "id": "0DczNbr5E9Gk"
      },
      "execution_count": null,
      "outputs": []
    },
    {
      "cell_type": "markdown",
      "source": [
        "# 슬라이싱 리스트 자료형(배열, 튜플, ndarray)\n",
        "색인 연산자 [ ]안에 start:stop을 지정해서 원하는 크기만큼 잘라낸다."
      ],
      "metadata": {
        "id": "HaIwn7pKUOkL"
      }
    },
    {
      "cell_type": "code",
      "execution_count": null,
      "metadata": {
        "colab": {
          "base_uri": "https://localhost:8080/"
        },
        "id": "f4P71scXUAMa",
        "outputId": "77b36d75-7b44-42f8-c0cd-9052da0814e7"
      },
      "outputs": [
        {
          "output_type": "stream",
          "name": "stdout",
          "text": [
            "[2, 3, 7, 5]\n",
            "(2, 3, 7, 5)\n",
            "[2 3 7 5]\n",
            "<class 'list'>\n",
            "<class 'tuple'>\n",
            "<class 'numpy.ndarray'>\n"
          ]
        }
      ],
      "source": [
        "import numpy as np\n",
        "\n",
        "seq = [7, 2, 3, 7, 5, 6, 0, 1]\n",
        "seq1 = (7, 2, 3, 7, 5, 6, 0, 1)\n",
        "seq2 = np.array([7, 2, 3, 7, 5, 6, 0, 1])\n",
        "\n",
        "print(seq[1:5]) # seq[1]에서 seq[4]로 인덱스 5이전까지로 슬라이싱\n",
        "print(seq1[1:5])\n",
        "print(seq2[1:5])\n",
        "\n",
        "print(type(seq))\n",
        "print(type(seq1))\n",
        "-print(type(seq2))"
      ]
    },
    {
      "cell_type": "markdown",
      "source": [
        "--------------------------------------------------------------------------------\n",
        "슬라이스에 다른 순차형 자료 대입 가능. value 7을 6, 3으로 교환 함. 곧 원소 하나 증가함"
      ],
      "metadata": {
        "id": "emc3EC6BXOo0"
      }
    },
    {
      "cell_type": "code",
      "source": [
        "seq[3:4] = [6, 3]\n"
      ],
      "metadata": {
        "id": "0yGH5g6cWxbu"
      },
      "execution_count": null,
      "outputs": []
    },
    {
      "cell_type": "markdown",
      "source": [
        "------------------------------------------------\n",
        "1. 두 번째 콜론 다음으로 간격 지정 가능\n",
        "2. -1이면 역순으로 반환 함\n",
        "------------------------------------------------"
      ],
      "metadata": {
        "id": "5OPBaKBNVZ_Y"
      }
    },
    {
      "cell_type": "code",
      "source": [
        "seq[::2]"
      ],
      "metadata": {
        "colab": {
          "base_uri": "https://localhost:8080/"
        },
        "id": "ApM9eD9EUHVk",
        "outputId": "fefc6a4e-c8ed-4cb6-ef08-0ba385999cc5"
      },
      "execution_count": null,
      "outputs": [
        {
          "output_type": "execute_result",
          "data": {
            "text/plain": [
              "[7, 3, 5, 0]"
            ]
          },
          "metadata": {},
          "execution_count": 16
        }
      ]
    },
    {
      "cell_type": "markdown",
      "source": [
        "\n",
        "\n",
        "---\n",
        "콜론 앞 혹은 뒤가 생략돼 있으면 자료형의 맨 처음 혹은 마지막 값을 뜻 함"
      ],
      "metadata": {
        "id": "588badHUXzRM"
      }
    },
    {
      "cell_type": "code",
      "source": [
        "seq[:5]"
      ],
      "metadata": {
        "colab": {
          "base_uri": "https://localhost:8080/"
        },
        "id": "bEet3K8BXlyM",
        "outputId": "74097452-de41-422e-c4be-3d173d9ec979"
      },
      "execution_count": null,
      "outputs": [
        {
          "output_type": "execute_result",
          "data": {
            "text/plain": [
              "[7, 2, 3, 7, 5]"
            ]
          },
          "metadata": {},
          "execution_count": 20
        }
      ]
    },
    {
      "cell_type": "code",
      "source": [
        "seq[:3]"
      ],
      "metadata": {
        "colab": {
          "base_uri": "https://localhost:8080/"
        },
        "id": "DTdnPLTeXuOM",
        "outputId": "352eba02-495a-412c-844d-b43d1c44e9f9"
      },
      "execution_count": null,
      "outputs": [
        {
          "output_type": "execute_result",
          "data": {
            "text/plain": [
              "[7, 2, 3]"
            ]
          },
          "metadata": {},
          "execution_count": 21
        }
      ]
    },
    {
      "cell_type": "markdown",
      "source": [
        "\n",
        "\n",
        "---\n",
        "\n",
        "\n",
        "# 파이썬의 내장 순차형 자료 함수\n",
        "1. enumerate는 (index,value)\n",
        "2. sorted, default는 ascending(오름차순)\n",
        "3. zip, 여러 개의 리스트나 튜플 또는 다른 순차 자료형을 서로 짝지어서 튜플의 리스트 생성, 반환 크기는 옮겨 받은 순차 자료형중 가장 짧은 크기로 지정"
      ],
      "metadata": {
        "id": "rng0CEXgVZJo"
      }
    },
    {
      "cell_type": "code",
      "source": [
        "seq[::-1]"
      ],
      "metadata": {
        "colab": {
          "base_uri": "https://localhost:8080/"
        },
        "id": "SzjEfJDMVTRN",
        "outputId": "c2b586e7-a2ad-4a60-cbd3-6ff0b8ce0b17"
      },
      "execution_count": null,
      "outputs": [
        {
          "output_type": "execute_result",
          "data": {
            "text/plain": [
              "[1, 0, 6, 5, 7, 3, 2, 7]"
            ]
          },
          "metadata": {},
          "execution_count": 51
        }
      ]
    },
    {
      "cell_type": "markdown",
      "source": [
        "\n",
        "\n",
        "*   리스트는 대괄호 []\n",
        "*   튜플은 소괄호 ()\n",
        "*   딕셔너리는 중괄호 {key,value}\n",
        "\n",
        "\n"
      ],
      "metadata": {
        "id": "iS0QXS3znQjW"
      }
    },
    {
      "cell_type": "code",
      "source": [
        "some_list = ['foo','bar','baz']\n",
        "mapping = {}\n",
        "\n",
        "for i,v in enumerate(some_list):\n",
        "  mapping[v] = i\n",
        "\n",
        "mapping"
      ],
      "metadata": {
        "colab": {
          "base_uri": "https://localhost:8080/"
        },
        "id": "Wg5HFhFkVpAQ",
        "outputId": "a54c037a-23c3-4b08-b7df-d61a5fdff5dd"
      },
      "execution_count": null,
      "outputs": [
        {
          "output_type": "execute_result",
          "data": {
            "text/plain": [
              "{'bar': 1, 'baz': 2, 'foo': 0}"
            ]
          },
          "metadata": {},
          "execution_count": 52
        }
      ]
    },
    {
      "cell_type": "markdown",
      "source": [
        "\n",
        "\n",
        "---\n",
        "\n"
      ],
      "metadata": {
        "id": "yIGANapzYK9r"
      }
    },
    {
      "cell_type": "code",
      "source": [
        "sorted([7, 1, 2, 6, 0, 3, 2]) "
      ],
      "metadata": {
        "colab": {
          "base_uri": "https://localhost:8080/"
        },
        "id": "uf-VHLFiWItP",
        "outputId": "6388e147-9739-4e7f-c4d4-44f1991e133f"
      },
      "execution_count": null,
      "outputs": [
        {
          "output_type": "execute_result",
          "data": {
            "text/plain": [
              "[0, 1, 2, 2, 3, 6, 7]"
            ]
          },
          "metadata": {},
          "execution_count": 53
        }
      ]
    },
    {
      "cell_type": "code",
      "source": [
        "sorted('horse race') #문자"
      ],
      "metadata": {
        "colab": {
          "base_uri": "https://localhost:8080/"
        },
        "id": "oyCmMyS5nplM",
        "outputId": "54a8684d-1823-4090-8382-598eaa78b897"
      },
      "execution_count": null,
      "outputs": [
        {
          "output_type": "execute_result",
          "data": {
            "text/plain": [
              "[' ', 'a', 'c', 'e', 'e', 'h', 'o', 'r', 'r', 's']"
            ]
          },
          "metadata": {},
          "execution_count": 50
        }
      ]
    },
    {
      "cell_type": "code",
      "source": [
        "seq1 = ['foo','bar', 'baz']\n",
        "seq2 = ['one', 'two', 'three']\n",
        "zipped = zip(seq1, seq2)\n",
        "list(zipped) #list명령어 가 뭐죠?"
      ],
      "metadata": {
        "colab": {
          "base_uri": "https://localhost:8080/"
        },
        "id": "F2NU6bphoN7S",
        "outputId": "ca07f49e-793a-49b4-f7bf-dde1dc256b00"
      },
      "execution_count": null,
      "outputs": [
        {
          "output_type": "stream",
          "name": "stdout",
          "text": [
            "[]\n"
          ]
        }
      ]
    },
    {
      "cell_type": "markdown",
      "source": [
        "# 삼항 표현식\n",
        "if else 블록을 한 줄로 표현 할 수 있도록 함\n",
        "\n",
        "```\n",
        "# value = true-expr if condition else false-expr\n",
        "\n",
        "```\n",
        "\n",
        "```\n",
        "#  if condition:\n",
        "   value = true-expr\n",
        "else:\n",
        "  vaue = false-expr\n",
        "```\n",
        "\n"
      ],
      "metadata": {
        "id": "wk6KU3twbI2e"
      }
    },
    {
      "cell_type": "code",
      "source": [
        "x = 5\n",
        "'Non-negative' if x>=0 else 'Negative'\n",
        "'Non-negative'"
      ],
      "metadata": {
        "colab": {
          "base_uri": "https://localhost:8080/",
          "height": 35
        },
        "id": "S6USHHn-bO1h",
        "outputId": "1e8d8f31-9e15-4bd9-f1b8-f8323fb736ea"
      },
      "execution_count": null,
      "outputs": [
        {
          "output_type": "execute_result",
          "data": {
            "application/vnd.google.colaboratory.intrinsic+json": {
              "type": "string"
            },
            "text/plain": [
              "'Non-negative'"
            ]
          },
          "metadata": {},
          "execution_count": 62
        }
      ]
    },
    {
      "cell_type": "markdown",
      "source": [
        "# 흐름 제어\n",
        "\n",
        "1. [if,elif,else]\n",
        "   pass는 아무 것도 안 하고 통과 한다.\n",
        "2. [for]\n",
        "   튜플이나 리스트 같은 컬렉션, 이터레이터 순회, continue 사용시 해당 for문의 남은 블록 건너 뛴다. 다음 순회 시작 함. break문 이용해서 가장 안 쪽의 for문만 종료 시킬 수 있음\n",
        "3. [while]"
      ],
      "metadata": {
        "id": "_Bkv-SNVcvTq"
      }
    },
    {
      "cell_type": "code",
      "source": [
        "x=-0\n",
        "\n",
        "if x<0 :\n",
        "  print(\"it's negative\")\n",
        "elif x==0:\n",
        "   print(\"Equal to zero\")\n",
        "   pass\n",
        "elif 0<x<5:\n",
        "  print(\"Positive but smaller than 5\")\n",
        "else:\n",
        "  print('Positive and larger than or equal to 5')"
      ],
      "metadata": {
        "colab": {
          "base_uri": "https://localhost:8080/"
        },
        "id": "ICU7rhG4cu6e",
        "outputId": "e738c3e9-73bb-4c63-ff0c-2df2d1cc5921"
      },
      "execution_count": null,
      "outputs": [
        {
          "output_type": "stream",
          "name": "stdout",
          "text": [
            "Equal to zero\n"
          ]
        }
      ]
    },
    {
      "cell_type": "code",
      "source": [
        "sequence = [1, 2, None, 4, None, 5]\n",
        "total = 0\n",
        "# sequence에서 None이 아닌 정수끼리 sum을 한다.\n",
        "for value in sequence:\n",
        "  if value is None:\n",
        "    continue\n",
        "  total += value\n",
        "\n",
        "print(total)"
      ],
      "metadata": {
        "colab": {
          "base_uri": "https://localhost:8080/"
        },
        "id": "_MqAXMj8c2sB",
        "outputId": "30a68016-efbc-4a63-916e-ea1453815daf"
      },
      "execution_count": null,
      "outputs": [
        {
          "output_type": "stream",
          "name": "stdout",
          "text": [
            "12\n"
          ]
        }
      ]
    },
    {
      "cell_type": "code",
      "source": [
        "sequence = [1, 2, 0, 4, 6, 5, 2, 1]\n",
        "total_until_5 = 0\n",
        "for value in sequence:\n",
        "  if value == 5:\n",
        "    break #1+2+0+4+6 = 13 \n",
        "  total_until_5 += value\n",
        "total_until_5"
      ],
      "metadata": {
        "colab": {
          "base_uri": "https://localhost:8080/"
        },
        "id": "v3ovyfNukmsq",
        "outputId": "e4135664-7b84-4e31-e373-ba16d11520cc"
      },
      "execution_count": null,
      "outputs": [
        {
          "output_type": "execute_result",
          "data": {
            "text/plain": [
              "13"
            ]
          },
          "metadata": {},
          "execution_count": 45
        }
      ]
    },
    {
      "cell_type": "markdown",
      "source": [
        "\n",
        "\n",
        "\n",
        "---\n",
        "\n",
        "\n",
        "*   //는 몫\n",
        "*   /는 몫,나머지\n",
        "*   %는 나머지\n",
        "\n",
        "\n"
      ],
      "metadata": {
        "id": "hGBo_ektmZcP"
      }
    },
    {
      "cell_type": "code",
      "source": [
        "x = 256\n",
        "total = 0\n",
        "while x>0:\n",
        "  if total>500:\n",
        "    break\n",
        "  total+=x\n",
        "  x = x//2\n",
        "total"
      ],
      "metadata": {
        "colab": {
          "base_uri": "https://localhost:8080/"
        },
        "id": "zADAPBAclPQo",
        "outputId": "168aeeb6-b754-4f64-ac91-26844ac2417d"
      },
      "execution_count": null,
      "outputs": [
        {
          "output_type": "execute_result",
          "data": {
            "text/plain": [
              "504"
            ]
          },
          "metadata": {},
          "execution_count": 46
        }
      ]
    },
    {
      "cell_type": "markdown",
      "source": [
        "#is문과 ==의 차이점\n",
        "```\n",
        "# is문은 object간 비교\n",
        "  ==는 value간 비교한다.\n",
        "```\n",
        "\n",
        "출처 : https://codechacha.com/ko/python-difference-between-is-and-equals/\n",
        "\n"
      ],
      "metadata": {
        "id": "uKu2LItskFW7"
      }
    },
    {
      "cell_type": "code",
      "source": [
        "#a와 b는 다른 객체임\n",
        "a = []\n",
        "b = []\n",
        "c = a\n",
        "\n",
        "result = (a is b)\n",
        "print(\"a is b ?\", result)\n",
        "\n",
        "result = (a is c)\n",
        "print(\"a is c ?\", result)\n",
        "\n",
        "result = (b is c)\n",
        "print(\"b is c ?\", result)"
      ],
      "metadata": {
        "colab": {
          "base_uri": "https://localhost:8080/"
        },
        "id": "tC_xLhILkFIs",
        "outputId": "d2fe4873-0eb8-4506-e518-7e4806429cc3"
      },
      "execution_count": null,
      "outputs": [
        {
          "output_type": "stream",
          "name": "stdout",
          "text": [
            "a is b ? False\n",
            "a is c ? True\n",
            "b is c ? False\n"
          ]
        }
      ]
    },
    {
      "cell_type": "code",
      "source": [
        "a = []\n",
        "b = []\n",
        "c = a\n",
        "\n",
        "result = (a == b)\n",
        "print(\"a == b ?\", result)\n",
        "\n",
        "result = (a == c)\n",
        "print(\"a == c ?\", result)\n",
        "\n",
        "result = (b == c)\n",
        "print(\"b == c ?\", result)"
      ],
      "metadata": {
        "colab": {
          "base_uri": "https://localhost:8080/"
        },
        "id": "BT9gdbZ3kVyq",
        "outputId": "f26ac8ca-9195-4a1e-9250-ccaed0cd290d"
      },
      "execution_count": null,
      "outputs": [
        {
          "output_type": "stream",
          "name": "stdout",
          "text": [
            "a == b ? True\n",
            "a == c ? True\n",
            "b == c ? True\n"
          ]
        }
      ]
    },
    {
      "cell_type": "markdown",
      "source": [
        "# 제너레이터 사용하기\n",
        " Yield\n",
        "\n",
        "1.   dictionary 자료형에서는 앞의 key값을 반환\n",
        "2.   생성 위해서는 return  대신 yield 예약어 사용\n",
        "\n"
      ],
      "metadata": {
        "id": "_Ndth2tz0nAi"
      }
    },
    {
      "cell_type": "code",
      "source": [
        "some_dict = {'a':1, 'b':2, 'c':3}\n",
        "\n",
        "for key in some_dict:\n",
        "  print(key)"
      ],
      "metadata": {
        "colab": {
          "base_uri": "https://localhost:8080/"
        },
        "id": "QOxSzn7MkheC",
        "outputId": "eac56eca-6a4b-4928-8c52-15035ce12765"
      },
      "execution_count": null,
      "outputs": [
        {
          "output_type": "stream",
          "name": "stdout",
          "text": [
            "['a', 'b', 'c']\n",
            "a\n",
            "b\n",
            "c\n"
          ]
        }
      ]
    },
    {
      "cell_type": "code",
      "source": [
        "dict_iterator = iter(some_dict)\n",
        "list(dict_iterator)"
      ],
      "metadata": {
        "colab": {
          "base_uri": "https://localhost:8080/"
        },
        "id": "fuH-rzuR018t",
        "outputId": "382af8f3-62d7-4fa2-be45-ef016a570e3d"
      },
      "execution_count": null,
      "outputs": [
        {
          "output_type": "execute_result",
          "data": {
            "text/plain": [
              "['a', 'b', 'c']"
            ]
          },
          "metadata": {},
          "execution_count": 97
        }
      ]
    },
    {
      "cell_type": "code",
      "source": [
        "def squares(n=10):\n",
        "  print('Generationg squares from 1 to {0}'.format(n**2))\n",
        "  for i in range(1,n+1):\n",
        "    yield i**2"
      ],
      "metadata": {
        "id": "pNvAsHQG1Qjc"
      },
      "execution_count": null,
      "outputs": []
    },
    {
      "cell_type": "code",
      "source": [
        "gen = squares()\n",
        "gen"
      ],
      "metadata": {
        "colab": {
          "base_uri": "https://localhost:8080/"
        },
        "id": "WINBtnSX2vrW",
        "outputId": "de8c813a-19da-4817-833f-9912472a151c"
      },
      "execution_count": null,
      "outputs": [
        {
          "output_type": "execute_result",
          "data": {
            "text/plain": [
              "<generator object squares at 0x7fc8fae727d0>"
            ]
          },
          "metadata": {},
          "execution_count": 99
        }
      ]
    },
    {
      "cell_type": "code",
      "source": [
        "for x in gen:\n",
        "  print(x,end=' ') #end의 default는 \\n이고 sep의 default는 공백"
      ],
      "metadata": {
        "colab": {
          "base_uri": "https://localhost:8080/"
        },
        "id": "yaB49l-n2yft",
        "outputId": "776bf65d-c848-4456-e828-25ee11106a5c"
      },
      "execution_count": null,
      "outputs": [
        {
          "output_type": "stream",
          "name": "stdout",
          "text": [
            "Generationg squares from 1 to 100\n",
            "1 4 9 16 25 36 49 64 81 100 "
          ]
        }
      ]
    },
    {
      "cell_type": "markdown",
      "source": [
        "# 제너레이터 표현식\n",
        "\n",
        "\n",
        "*   제너레이터 생성시 소괄호로 묶어준다.\n",
        "*   \n"
      ],
      "metadata": {
        "id": "5U0ZKIA_C26F"
      }
    },
    {
      "cell_type": "code",
      "source": [
        "gen = (x**2 for x in range(100))\n",
        "gen"
      ],
      "metadata": {
        "colab": {
          "base_uri": "https://localhost:8080/"
        },
        "id": "WosRQBmq3Mph",
        "outputId": "bd95895f-cce7-4b6a-bde0-27b0215b1ffe"
      },
      "execution_count": null,
      "outputs": [
        {
          "output_type": "execute_result",
          "data": {
            "text/plain": [
              "<generator object <genexpr> at 0x7fc8fae723d0>"
            ]
          },
          "metadata": {},
          "execution_count": 104
        }
      ]
    },
    {
      "cell_type": "code",
      "source": [
        "seq = gen\n",
        "for x in gen:\n",
        "  print(x, end=' ')"
      ],
      "metadata": {
        "colab": {
          "base_uri": "https://localhost:8080/"
        },
        "id": "XhgjjRCz3THr",
        "outputId": "fe9ee10c-f8cd-4b8a-bc12-9559ad671994"
      },
      "execution_count": null,
      "outputs": [
        {
          "output_type": "stream",
          "name": "stdout",
          "text": [
            "0 1 4 9 16 25 36 49 64 81 100 121 144 169 196 225 256 289 324 361 400 441 484 529 576 625 676 729 784 841 900 961 1024 1089 1156 1225 1296 1369 1444 1521 1600 1681 1764 1849 1936 2025 2116 2209 2304 2401 2500 2601 2704 2809 2916 3025 3136 3249 3364 3481 3600 3721 3844 3969 4096 4225 4356 4489 4624 4761 4900 5041 5184 5329 5476 5625 5776 5929 6084 6241 6400 6561 6724 6889 7056 7225 7396 7569 7744 7921 8100 8281 8464 8649 8836 9025 9216 9409 9604 9801 "
          ]
        }
      ]
    },
    {
      "cell_type": "code",
      "source": [
        ""
      ],
      "metadata": {
        "id": "cwSrFOK2DD0r"
      },
      "execution_count": null,
      "outputs": []
    }
  ]
}