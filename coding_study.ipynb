{
 "cells": [
  {
   "cell_type": "code",
   "execution_count": 4,
   "metadata": {},
   "outputs": [
    {
     "name": "stdout",
     "output_type": "stream",
     "text": [
      "[0, 1, 2, 3, 4, 5, 6, 7, 8, 9]\n"
     ]
    }
   ],
   "source": [
    "#chapeter6-1 선택정렬(23/01/28)\n",
    "array = [7,5,9,0,3,1,6,2,4,8]\n",
    "\n",
    "for i in range(len(array)): # 미정렬 수들 중에 선택\n",
    "    min_index=i\n",
    "    for j in range(i+1,len(array)): \n",
    "        if array[min_index]>array[j]:\n",
    "            min_index=j\n",
    "    array[i], array[min_index] = array[min_index],array[i]\n",
    "    \n",
    "print(array)"
   ]
  },
  {
   "cell_type": "code",
   "execution_count": 5,
   "metadata": {},
   "outputs": [
    {
     "name": "stdout",
     "output_type": "stream",
     "text": [
      "[5, 3]\n"
     ]
    }
   ],
   "source": [
    "array = [3,5]\n",
    "array[0],array[1] = array[1],array[0]\n",
    "print(array)"
   ]
  },
  {
   "cell_type": "code",
   "execution_count": 12,
   "metadata": {},
   "outputs": [
    {
     "name": "stdout",
     "output_type": "stream",
     "text": [
      "1 1\n",
      "break 2 2\n",
      "3 3\n",
      "3 2\n",
      "3 1\n",
      "4 4\n",
      "4 3\n",
      "4 2\n",
      "break 4 1\n",
      "5 5\n",
      "5 4\n",
      "5 3\n",
      "5 2\n",
      "break 5 1\n",
      "6 6\n",
      "6 5\n",
      "break 6 4\n",
      "7 7\n",
      "7 6\n",
      "7 5\n",
      "7 4\n",
      "7 3\n",
      "break 7 2\n",
      "8 8\n",
      "8 7\n",
      "8 6\n",
      "8 5\n",
      "break 8 4\n",
      "9 9\n",
      "break 9 8\n",
      "[0, 1, 2, 3, 4, 5, 6, 7, 8, 9]\n"
     ]
    }
   ],
   "source": [
    "#6-3 삽입정렬\n",
    "\n",
    "array = [7,5,9,0,3,1,6,2,4,8]\n",
    "\n",
    "for i in range(1, len(array)):\n",
    "    for j in range(i,0,-1):\n",
    "        if array[j]<array[j-1]: # 앞의 숫자가 뒤의 숫자보다 클 경우\n",
    "            print(i,j)\n",
    "            array[j], array[j-1] = array[j-1],array[j]\n",
    "        else: # 오름차순으로, 앞보다 뒤의 숫자가 클 경우는 굳이 비교 안해도 된다 \n",
    "            print('break',i,j) \n",
    "            break # break 발생시 j for문 종료, 상위 for문의 i-1 실행\n",
    "\n",
    "print(array)"
   ]
  },
  {
   "cell_type": "code",
   "execution_count": 18,
   "metadata": {},
   "outputs": [
    {
     "name": "stdout",
     "output_type": "stream",
     "text": [
      "[0, 3, 1, 2, 4]\n",
      "[]\n",
      "[1, 2]\n",
      "[]\n",
      "[6]\n",
      "[8]\n",
      "[0, 1, 2, 3, 4, 5, 6, 7, 8, 9]\n"
     ]
    }
   ],
   "source": [
    "# 6-5. 퀵정렬\n",
    "array = [5, 7, 9, 0, 3, 1, 6, 2, 4, 8]\n",
    "\n",
    "def quick_sort(array):\n",
    "    if len(array)<=1:\n",
    "        return array\n",
    "    \n",
    "    pivot = array[0]\n",
    "    tail = array[1:]\n",
    "    \n",
    "    left_side = [x for x in tail if x<= pivot] # 피봇보다 작거나 같은 값 찾아서 좌측으로 보냄\n",
    "    right_side = [x for x in tail if x > pivot] # 피봇보다 큰 값을 찾아서 우측으로 보냄\n",
    "    print(left_side)\n",
    "    return quick_sort(left_side) + [pivot] + quick_sort(right_side) # 피봇은 가운데로 이동시키기\n",
    "\n",
    "print(quick_sort(array))"
   ]
  },
  {
   "cell_type": "code",
   "execution_count": 26,
   "metadata": {},
   "outputs": [
    {
     "name": "stdout",
     "output_type": "stream",
     "text": [
      "2\n",
      "0 0 1 1 2 2 3 4 5 5 6 7 8 9 9 "
     ]
    }
   ],
   "source": [
    "#6-6. 계수정렬\n",
    "array = [7, 5, 9, 0, 3, 1, 6, 2, 9, 1, 4, 8, 0, 5, 2]\n",
    "count = [0]* (max(array)+1) #  숫자 0을 포함한 새로운 리스트 생성, 범위 1개 추가하기 \n",
    "\n",
    "for i in range(len(array)): # len(count)하면 안 됨. 횟수는 array임.\n",
    "    count[array[i]]+=1 # array에 0~9까지의 숫자가 있으면, count에 해당 숫자 카운팅하기.\n",
    "     \n",
    "print(count[0])     \n",
    "\n",
    "for i in range(len(count)): # 다른 리스트가 반복문에 들어갈 수 있다. 단, range를 써야지 순환 기능이 있다. range는 정수배열을 generate하며 처음과 끝이 존재한다.\n",
    "    for j in range(count[i]): # 카운팅 된 횟수만큼 해당 인덱스의 숫자를 출력 count[0]은 2다. 0,1을 generate하는거다.\n",
    "        print(i, end=' ')"
   ]
  },
  {
   "cell_type": "code",
   "execution_count": 5,
   "metadata": {},
   "outputs": [],
   "source": [
    "# 용시코-1편 https://covenant.tistory.com/141 \n",
    "# 2-1. 2차원 정수리스트 입력 받기\n",
    "\n",
    "map2 = [list(map(int,input().split())) for _ in range(int(input()))]\n",
    "# [후반입력(각 리스트에 들어갈 숫자) -> 초반입력(입력될 숫자들의 줄, 리스트 N개 생성) ]"
   ]
  },
  {
   "attachments": {},
   "cell_type": "markdown",
   "metadata": {},
   "source": [
    "2\n",
    "5 9 8\n",
    "1 10 12 4"
   ]
  },
  {
   "cell_type": "code",
   "execution_count": 6,
   "metadata": {},
   "outputs": [
    {
     "name": "stdout",
     "output_type": "stream",
     "text": [
      "[[5, 9, 8], [1, 10, 12, 4]]\n"
     ]
    }
   ],
   "source": [
    "print(map2)"
   ]
  },
  {
   "cell_type": "code",
   "execution_count": 9,
   "metadata": {},
   "outputs": [],
   "source": [
    "# 2-2. 정수와 배열이 같은 줄에 들어오는 경우\n",
    "# *로 지칭한 값들은 arr 리스트에 저장된다\n",
    "N, *arr = map(int,input().split())"
   ]
  },
  {
   "attachments": {},
   "cell_type": "markdown",
   "metadata": {},
   "source": [
    "4 10 20 30 40\n",
    "3 7 5 12\n",
    "3 125 15 25"
   ]
  },
  {
   "attachments": {},
   "cell_type": "markdown",
   "metadata": {},
   "source": [
    "3 125 15 25\n"
   ]
  },
  {
   "cell_type": "code",
   "execution_count": 10,
   "metadata": {},
   "outputs": [
    {
     "name": "stdout",
     "output_type": "stream",
     "text": [
      "3 [125, 15, 25]\n"
     ]
    }
   ],
   "source": [
    "print(N,arr)"
   ]
  },
  {
   "cell_type": "code",
   "execution_count": 13,
   "metadata": {},
   "outputs": [],
   "source": [
    "# 2-3. 문자열을 한 글자씩 배열에 저장\n",
    "# 입력된 문자열을 리스트로 변환하면 자동으로 쪼개진다.\n",
    "arr = [list(input()) for _ in range(int(input()))]"
   ]
  },
  {
   "cell_type": "code",
   "execution_count": 14,
   "metadata": {},
   "outputs": [
    {
     "name": "stdout",
     "output_type": "stream",
     "text": [
      "[['A', 'A', 'A', 'A'], ['A', 'B', 'C', 'A'], ['A', 'A', 'A', 'C']]\n"
     ]
    }
   ],
   "source": [
    "print(arr)"
   ]
  },
  {
   "cell_type": "code",
   "execution_count": 17,
   "metadata": {},
   "outputs": [
    {
     "name": "stdout",
     "output_type": "stream",
     "text": [
      "1 2 3 4\n"
     ]
    }
   ],
   "source": [
    "# 3-2 콤마 없애서 출력하는 법\n",
    "arr = [1, 2, 3, 4]\n",
    "arr # BAD\n",
    "print(*arr)# GOOD"
   ]
  },
  {
   "cell_type": "code",
   "execution_count": 18,
   "metadata": {},
   "outputs": [
    {
     "data": {
      "text/plain": [
       "'DCBA'"
      ]
     },
     "execution_count": 18,
     "metadata": {},
     "output_type": "execute_result"
    }
   ],
   "source": [
    "#용시코-2편, 3-1 문자열 거꾸로 출력\n",
    "alph = \"ABCD\"\n",
    "alph[::-1]"
   ]
  },
  {
   "cell_type": "code",
   "execution_count": 3,
   "metadata": {},
   "outputs": [],
   "source": [
    "#4-1 배열 원소 쪼갠 후에 거꾸로 만들기\n",
    "A = int(input())  \n",
    "B = int(input())\n",
    "arr_B = [int(i) for i in str(B)] #숫자는 쪼갤 수 없으므로, 문자열로 변경한 후에 하나씩 쪼개기\n",
    "arr_B.reverse()  "
   ]
  },
  {
   "attachments": {},
   "cell_type": "markdown",
   "metadata": {},
   "source": [
    "489\n",
    "583"
   ]
  },
  {
   "cell_type": "code",
   "execution_count": 4,
   "metadata": {},
   "outputs": [
    {
     "name": "stdout",
     "output_type": "stream",
     "text": [
      "[3, 8, 5]\n"
     ]
    }
   ],
   "source": [
    "print(arr_B)"
   ]
  },
  {
   "cell_type": "code",
   "execution_count": 2,
   "metadata": {},
   "outputs": [
    {
     "name": "stdout",
     "output_type": "stream",
     "text": [
      "[129, 580]\n"
     ]
    }
   ],
   "source": [
    "c = [580, 129]\n",
    "\n",
    "c.reverse()\n",
    "print(c)"
   ]
  },
  {
   "cell_type": "code",
   "execution_count": 7,
   "metadata": {},
   "outputs": [
    {
     "name": "stdout",
     "output_type": "stream",
     "text": [
      "B\n",
      "A\n",
      "B\n"
     ]
    }
   ],
   "source": [
    "# 4-3. 원소 갯수, 백준 윷놀이/브론즈3\n",
    "arr1 = list(map(int,input().split()))\n",
    "arr2 = list(map(int,input().split()))\n",
    "arr3 = list(map(int,input().split()))\n",
    "\n",
    "def game(array):\n",
    "    cnt = array.count(1) # 배열.count(찾는 값)\n",
    "    if cnt == 3:\n",
    "        print('A')\n",
    "    elif cnt == 2:\n",
    "        print('B')\n",
    "    elif cnt == 1:\n",
    "        print('C')\n",
    "    elif cnt == 0:\n",
    "        print('D')\n",
    "    elif cnt == 4:\n",
    "        print('E')\n",
    "        \n",
    "game(arr1)\n",
    "game(arr2)\n",
    "game(arr3)"
   ]
  },
  {
   "cell_type": "code",
   "execution_count": 11,
   "metadata": {},
   "outputs": [
    {
     "name": "stdout",
     "output_type": "stream",
     "text": [
      "['a', 'e', 'g', 'b', 'c', 'd', 'f']\n"
     ]
    }
   ],
   "source": [
    "#4-4. 원소 중복 제거\n",
    "#set함수는 유일한 원소 저장\n",
    "\n",
    "alpha = ['a','b','c','d','e','f','g','a','b','c','d']\n",
    "alpha = list(set(alpha)) # 리스트로 안 하면 튜플{}로 저장\n",
    "print(alpha)"
   ]
  },
  {
   "cell_type": "code",
   "execution_count": 16,
   "metadata": {},
   "outputs": [
    {
     "name": "stdout",
     "output_type": "stream",
     "text": [
      "1 -1\n",
      "1 1\n",
      "2 2\n",
      "3 3\n",
      "3 4\n"
     ]
    }
   ],
   "source": [
    "#4-5. 소트함수. 백준 좌표정렬하기/실버5(11650번)\n",
    "# 내 기억엔 sort 할 때, 아마도 key를 지정할 수 있음\n",
    "# 2차원 리스트를 만들어서\n",
    "\n",
    "N = int(input())\n",
    "MAP = [list(map(int,input().split())) for _ in range(N)] # 리스트로 바꿔야지만 MAP[0][0] 이렇게 뽑아낼 수 있다.\n",
    "\n",
    "MAP.sort(key=lambda x : (x[0],x[1]))\n",
    "\n",
    "for i in MAP:\n",
    "    print(str(i[0])+\" \"+str(i[1]))"
   ]
  },
  {
   "cell_type": "code",
   "execution_count": 20,
   "metadata": {},
   "outputs": [
    {
     "name": "stdout",
     "output_type": "stream",
     "text": [
      "Donghyuk\n",
      "Sangkeun\n",
      "Sunyoung\n",
      "nsj\n",
      "Wonseob\n",
      "Sanghyun\n",
      "Sei\n",
      "Kangsoo\n",
      "Haebin\n",
      "Junkyu\n",
      "Soong\n",
      "Taewhan\n"
     ]
    }
   ],
   "source": [
    "# 백준 국영수/실버4(10825번)\n",
    "# 국어 감소, 영어 증가, 수학 감소, 마지막 이름\n",
    "\n",
    "N = int(input())\n",
    "arr =[]\n",
    "for i in range(N):\n",
    "    arr.append(list(input().split()))\n",
    "    \n",
    "for i in range(N):\n",
    "    arr[i][0]=str(arr[i][0])\n",
    "    for j in range(1,4):\n",
    "        arr[i][j]=int(arr[i][j])\n",
    "        \n",
    "arr.sort(key=lambda x:(-x[1],x[2],-x[3],x[0]))\n",
    "\n",
    "for k in range(N):\n",
    "    print(arr[k][0])"
   ]
  },
  {
   "cell_type": "code",
   "execution_count": 15,
   "metadata": {},
   "outputs": [
    {
     "name": "stdout",
     "output_type": "stream",
     "text": [
      "[['Junkyu', 50, 60, 100], ['Junkyu', 50, 60, 100]]\n"
     ]
    }
   ],
   "source": [
    "print(arr)"
   ]
  },
  {
   "cell_type": "code",
   "execution_count": 21,
   "metadata": {},
   "outputs": [
    {
     "name": "stdout",
     "output_type": "stream",
     "text": [
      "4\n"
     ]
    }
   ],
   "source": [
    "# 삼항 연산자 [True 조건] if 조건 else [False 조건]\n",
    "\n",
    "a=2\n",
    "b=4\n",
    "\n",
    "res = a if a>b else b\n",
    "\n",
    "print(res)"
   ]
  },
  {
   "cell_type": "code",
   "execution_count": 23,
   "metadata": {},
   "outputs": [
    {
     "name": "stdout",
     "output_type": "stream",
     "text": [
      "0 1\n",
      "0 2\n",
      "0 3\n",
      "0 4\n",
      "1 2\n",
      "1 3\n",
      "1 4\n",
      "2 3\n",
      "2 4\n",
      "3 4\n"
     ]
    }
   ],
   "source": [
    "# nC2\n",
    "N=5\n",
    "for i in range(0, N-1):\n",
    "    for j in range(i+1,N):\n",
    "        print(i,j)"
   ]
  },
  {
   "cell_type": "code",
   "execution_count": 52,
   "metadata": {},
   "outputs": [
    {
     "name": "stdout",
     "output_type": "stream",
     "text": [
      "3\n"
     ]
    }
   ],
   "source": [
    "# 용시코-3편, 1-1. 순열 백준9613(실버4)\n",
    "# math.gcd(최대공약수-Gratest common divisor), math.lcm(최소공배수-least common divisor)\n",
    "# 2개씩 뽑아서 최대공약수를 구하고 sum 해라.\n",
    "import math\n",
    "\n",
    "t = int(input())\n",
    "\n",
    "sum = 0\n",
    "array = []\n",
    "for i in range(t):\n",
    "    array.append(list(map(int,input().split())))\n",
    "          \n",
    "for i in range(t):\n",
    "    sum=0\n",
    "    for j in range(1,len(array[i])-1):\n",
    "        for k in range(j+1,len(array[i])):\n",
    "            gcd = math.gcd(array[i][j],array[i][k])\n",
    "            sum+=gcd\n",
    "    print(sum)\n",
    "    \n"
   ]
  },
  {
   "cell_type": "code",
   "execution_count": 42,
   "metadata": {},
   "outputs": [
    {
     "data": {
      "text/plain": [
       "10"
      ]
     },
     "execution_count": 42,
     "metadata": {},
     "output_type": "execute_result"
    }
   ],
   "source": []
  }
 ],
 "metadata": {
  "kernelspec": {
   "display_name": "openmmlab",
   "language": "python",
   "name": "python3"
  },
  "language_info": {
   "codemirror_mode": {
    "name": "ipython",
    "version": 3
   },
   "file_extension": ".py",
   "mimetype": "text/x-python",
   "name": "python",
   "nbconvert_exporter": "python",
   "pygments_lexer": "ipython3",
   "version": "3.8.13"
  },
  "orig_nbformat": 4,
  "vscode": {
   "interpreter": {
    "hash": "62d091a3f39b7b83543f4961273f074de48cf146eaa3b2faa7b58f34fe93f53e"
   }
  }
 },
 "nbformat": 4,
 "nbformat_minor": 2
}
