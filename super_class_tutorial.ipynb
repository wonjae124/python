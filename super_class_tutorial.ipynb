{
  "nbformat": 4,
  "nbformat_minor": 0,
  "metadata": {
    "colab": {
      "name": "super_class_tutorial.ipynb",
      "provenance": [],
      "collapsed_sections": [],
      "authorship_tag": "ABX9TyMH9zzpeEm6KdeZvkGTRyRQ",
      "include_colab_link": true
    },
    "kernelspec": {
      "name": "python3",
      "display_name": "Python 3"
    },
    "language_info": {
      "name": "python"
    }
  },
  "cells": [
    {
      "cell_type": "markdown",
      "metadata": {
        "id": "view-in-github",
        "colab_type": "text"
      },
      "source": [
        "<a href=\"https://colab.research.google.com/github/wonjae124/python/blob/main/super_class_tutorial.ipynb\" target=\"_parent\"><img src=\"https://colab.research.google.com/assets/colab-badge.svg\" alt=\"Open In Colab\"/></a>"
      ]
    },
    {
      "cell_type": "code",
      "execution_count": 1,
      "metadata": {
        "id": "WMeWX-0d3kTn"
      },
      "outputs": [],
      "source": [
        "class Person:\n",
        "    def __init__(self, name, age):\n",
        "        self.name = name\n",
        "        self.age = age\n",
        "    \n",
        "    def get_name(self):\n",
        "        print(f'제 이름은 {self.name}입니다.')\n",
        "    \n",
        "    def get_age(self):\n",
        "        print(f'제 나이는 {self.age}세 입니다.')\n",
        "        "
      ]
    },
    {
      "cell_type": "code",
      "source": [
        "person_a = Person('류희선',27)\n",
        "person_a.get_name()\n",
        "person_a.get_age()"
      ],
      "metadata": {
        "colab": {
          "base_uri": "https://localhost:8080/"
        },
        "id": "03HUk1yK345F",
        "outputId": "b3bc7feb-ddeb-4892-9f58-4db90860e9c0"
      },
      "execution_count": 3,
      "outputs": [
        {
          "output_type": "stream",
          "name": "stdout",
          "text": [
            "제 이름은 류희선입니다.\n",
            "제 나이는 27세 입니다.\n"
          ]
        }
      ]
    },
    {
      "cell_type": "code",
      "source": [
        "class Student:\n",
        "    def __init__(self, name, age, GPA):\n",
        "        self.name = name\n",
        "        self.age = age\n",
        "        self.GPA = GPA\n",
        "\n",
        "    def get_name(self): #중복 된 속성\n",
        "        print(f'제 이름은 {self.name}입니다')\n",
        "    \n",
        "    def get_age(self): # 중복 된 속성\n",
        "        print(f'제 나이는 {self.age}입니다')\n",
        "    \n",
        "    def get_GPA(self):\n",
        "        print(f'제 학점은 {self.GPA}입니다')"
      ],
      "metadata": {
        "id": "vH4TCDGF4B7U"
      },
      "execution_count": 4,
      "outputs": []
    },
    {
      "cell_type": "code",
      "source": [
        "Student_a = Student(name = '류희선', age = '24', GPA = '3.83')\n",
        "Student_a.get_name()\n",
        "Student_a.get_age()\n",
        "Student_a.get_GPA()"
      ],
      "metadata": {
        "colab": {
          "base_uri": "https://localhost:8080/"
        },
        "id": "yg_uSdQr40TS",
        "outputId": "d9187c5a-fd17-499e-b5d4-3de34de6ab33"
      },
      "execution_count": 13,
      "outputs": [
        {
          "output_type": "stream",
          "name": "stdout",
          "text": [
            "제 이름은 류희선입니다\n",
            "제 나이는 24입니다\n",
            "제 학점은 3.83입니다\n"
          ]
        }
      ]
    },
    {
      "cell_type": "code",
      "source": [
        "class Student(Person):\n",
        "    def __init__(self, name, age, GPA): #사용자의 입력 매개인자 나열\n",
        "        super().__init__(name, age) #(person)=부모 클래스에서 가져올 속성을 __init__ 뒤에 표시\n",
        "        self.GPA = GPA #기존 Person 클래스에 없던 속성은 직접 추가한다.\n",
        "\n",
        "    def get_GPA(self):\n",
        "        print(f'제 학점은 {self.GPA}입니다.')"
      ],
      "metadata": {
        "id": "g8y7VLJ34X5j"
      },
      "execution_count": 35,
      "outputs": []
    },
    {
      "cell_type": "code",
      "source": [
        "student_a = Student('류희선', 24, 3.4)\n",
        "student_a.get_name()\n",
        "student_a.get_age()\n",
        "student_a.get_GPA()"
      ],
      "metadata": {
        "colab": {
          "base_uri": "https://localhost:8080/"
        },
        "id": "CC3aVyzj5O0p",
        "outputId": "c3040a4e-9b44-4747-c987-d82583128827"
      },
      "execution_count": 36,
      "outputs": [
        {
          "output_type": "stream",
          "name": "stdout",
          "text": [
            "제 이름은 류희선입니다.\n",
            "제 나이는 24세 입니다.\n",
            "제 학점은 3.4입니다.\n"
          ]
        }
      ]
    },
    {
      "cell_type": "markdown",
      "source": [
        "### 부모 클래스와 다른 메소드 사용하기"
      ],
      "metadata": {
        "id": "S8-prqhs61Ye"
      }
    },
    {
      "cell_type": "code",
      "source": [
        "class Student(Person):\n",
        "    def __init__(self, name, age, GPA):\n",
        "        super().__init__(name, age)\n",
        "        self.GPA = GPA\n",
        "    \n",
        "    def get_name(self):\n",
        "        print(f'저는 대학생 {self.name}입니다') # 부모 클래스를 변경 가능. 이름은 -> 대학생\n",
        "    \n",
        "    def get_GPA(self):\n",
        "        print(f'제 학점은 {self.GPA}입니다.')"
      ],
      "metadata": {
        "id": "Hger1N9g5joA"
      },
      "execution_count": 37,
      "outputs": []
    },
    {
      "cell_type": "code",
      "source": [
        "student_a = Student('류희선', 27, 3.4)\n",
        "student_a.get_name()"
      ],
      "metadata": {
        "colab": {
          "base_uri": "https://localhost:8080/"
        },
        "id": "XhXFRgNV6mVL",
        "outputId": "b614bcf2-88f5-457c-caf2-460e80ae43f0"
      },
      "execution_count": 38,
      "outputs": [
        {
          "output_type": "stream",
          "name": "stdout",
          "text": [
            "저는 대학생 류희선입니다\n"
          ]
        }
      ]
    },
    {
      "cell_type": "markdown",
      "source": [
        "### 부모 클래스의 메소드만 사용하기"
      ],
      "metadata": {
        "id": "DvQ00b0G68pG"
      }
    },
    {
      "cell_type": "code",
      "source": [
        "class Student(Person):\n",
        "    def __init__(self, name, age, GPA):\n",
        "        super().__init__(name, age)\n",
        "        self.GPA = GPA\n",
        "    \n",
        "    def get_name(self):\n",
        "        print(f'저는 대학생 {self.name}입니다') \n",
        "    \n",
        "    def get_GPA(self):\n",
        "        super().get_name() # 부모 생성자 강제\n",
        "        print(f'제 학점은 {self.GPA}입니다.')"
      ],
      "metadata": {
        "id": "vOg4bPyZ68FN"
      },
      "execution_count": 39,
      "outputs": []
    },
    {
      "cell_type": "code",
      "source": [
        "student_a = Student('류희선', 27, 3.4)\n",
        "student_a.get_GPA()"
      ],
      "metadata": {
        "colab": {
          "base_uri": "https://localhost:8080/"
        },
        "id": "am3V1JZT7H1s",
        "outputId": "cc236ba9-67ab-440a-cf37-c393388707d1"
      },
      "execution_count": 40,
      "outputs": [
        {
          "output_type": "stream",
          "name": "stdout",
          "text": [
            "제 이름은 류희선입니다.\n",
            "제 학점은 3.4입니다.\n"
          ]
        }
      ]
    }
  ]
}