{
  "nbformat": 4,
  "nbformat_minor": 0,
  "metadata": {
    "colab": {
      "provenance": [],
      "authorship_tag": "ABX9TyMIekPF5NJWEr8Dcf9e9dJq",
      "include_colab_link": true
    },
    "kernelspec": {
      "name": "python3",
      "display_name": "Python 3"
    },
    "language_info": {
      "name": "python"
    }
  },
  "cells": [
    {
      "cell_type": "markdown",
      "metadata": {
        "id": "view-in-github",
        "colab_type": "text"
      },
      "source": [
        "<a href=\"https://colab.research.google.com/github/wonjae124/python/blob/main/%ED%8C%8C%EC%9D%B4%EC%8D%AC_%EB%82%B4%EC%9E%A5%ED%95%A8%EC%88%98.ipynb\" target=\"_parent\"><img src=\"https://colab.research.google.com/assets/colab-badge.svg\" alt=\"Open In Colab\"/></a>"
      ]
    },
    {
      "cell_type": "markdown",
      "source": [
        "## 파이썬 내장함수\n",
        "# https://youtu.be/2O-AsxW-GOM"
      ],
      "metadata": {
        "id": "r9Aj-LY_7ZqO"
      }
    },
    {
      "cell_type": "code",
      "execution_count": 1,
      "metadata": {
        "colab": {
          "base_uri": "https://localhost:8080/"
        },
        "id": "Lg8zHyBR7PIz",
        "outputId": "ff294b06-c552-4167-d201-f10447253b38"
      },
      "outputs": [
        {
          "output_type": "execute_result",
          "data": {
            "text/plain": [
              "3"
            ]
          },
          "metadata": {},
          "execution_count": 1
        }
      ],
      "source": [
        "abs(-3)"
      ]
    },
    {
      "cell_type": "code",
      "source": [
        "# 복소수 가능\n",
        "abs(-3+4j)"
      ],
      "metadata": {
        "colab": {
          "base_uri": "https://localhost:8080/"
        },
        "id": "ftP_hoy37QrP",
        "outputId": "727fe4f7-3dee-4ce2-bb72-79371517c02b"
      },
      "execution_count": 4,
      "outputs": [
        {
          "output_type": "execute_result",
          "data": {
            "text/plain": [
              "5.0"
            ]
          },
          "metadata": {},
          "execution_count": 4
        }
      ]
    },
    {
      "cell_type": "code",
      "source": [
        "# 아스키넘버\n",
        "chr(65)"
      ],
      "metadata": {
        "colab": {
          "base_uri": "https://localhost:8080/",
          "height": 37
        },
        "id": "-S69irH27The",
        "outputId": "198b5ab8-55a2-4c0f-f002-1dd469c9ced9"
      },
      "execution_count": 7,
      "outputs": [
        {
          "output_type": "execute_result",
          "data": {
            "text/plain": [
              "'A'"
            ],
            "application/vnd.google.colaboratory.intrinsic+json": {
              "type": "string"
            }
          },
          "metadata": {},
          "execution_count": 7
        }
      ]
    },
    {
      "cell_type": "code",
      "source": [
        "ord('A')"
      ],
      "metadata": {
        "colab": {
          "base_uri": "https://localhost:8080/"
        },
        "id": "z4rwGfHY7pCV",
        "outputId": "4e42babd-a91b-4f7b-93a2-2afcb46b7021"
      },
      "execution_count": 8,
      "outputs": [
        {
          "output_type": "execute_result",
          "data": {
            "text/plain": [
              "65"
            ]
          },
          "metadata": {},
          "execution_count": 8
        }
      ]
    },
    {
      "cell_type": "code",
      "source": [
        "#complex(real,imag)\n",
        "x = complex(4,2)\n",
        "x"
      ],
      "metadata": {
        "colab": {
          "base_uri": "https://localhost:8080/"
        },
        "id": "A8p3nOXv7qhF",
        "outputId": "74a37c89-0f0a-4889-c332-31921702ff07"
      },
      "execution_count": 10,
      "outputs": [
        {
          "output_type": "execute_result",
          "data": {
            "text/plain": [
              "(4+2j)"
            ]
          },
          "metadata": {},
          "execution_count": 10
        }
      ]
    },
    {
      "cell_type": "code",
      "source": [
        "# 파이썬의 수식을 문자열로 받아서 처리 후 반환\n",
        "eval(\"1+2\")"
      ],
      "metadata": {
        "colab": {
          "base_uri": "https://localhost:8080/"
        },
        "id": "mbMRMLx_746U",
        "outputId": "3a3e495c-5da3-47f6-f3c2-e18d82ed1140"
      },
      "execution_count": 11,
      "outputs": [
        {
          "output_type": "execute_result",
          "data": {
            "text/plain": [
              "3"
            ]
          },
          "metadata": {},
          "execution_count": 11
        }
      ]
    },
    {
      "cell_type": "code",
      "source": [
        "x = 1 \n",
        "y = 1\n",
        "eval('x+y')"
      ],
      "metadata": {
        "colab": {
          "base_uri": "https://localhost:8080/"
        },
        "id": "xKao5aRB77Rs",
        "outputId": "4edd55b5-c2fb-46c7-b756-063b2af4939e"
      },
      "execution_count": 13,
      "outputs": [
        {
          "output_type": "execute_result",
          "data": {
            "text/plain": [
              "2"
            ]
          },
          "metadata": {},
          "execution_count": 13
        }
      ]
    },
    {
      "cell_type": "code",
      "source": [
        "eval(\"print('Hi')\")"
      ],
      "metadata": {
        "colab": {
          "base_uri": "https://localhost:8080/"
        },
        "id": "iFeMnuXY8C3j",
        "outputId": "26b935b1-6ed9-4db2-9f5a-1b3da0865af2"
      },
      "execution_count": 19,
      "outputs": [
        {
          "output_type": "stream",
          "name": "stdout",
          "text": [
            "Hi\n"
          ]
        }
      ]
    },
    {
      "cell_type": "code",
      "source": [
        "#execution, 수식뿐만 아니라 모든 파이썬 문장을 받아서 실행\n",
        "exec(\"y=2+3\")\n",
        "y"
      ],
      "metadata": {
        "colab": {
          "base_uri": "https://localhost:8080/"
        },
        "id": "44yzENMu8ISq",
        "outputId": "b8ff1470-ffe6-4000-edcc-f382cd0d8cd5"
      },
      "execution_count": 21,
      "outputs": [
        {
          "output_type": "execute_result",
          "data": {
            "text/plain": [
              "5"
            ]
          },
          "metadata": {},
          "execution_count": 21
        }
      ]
    },
    {
      "cell_type": "code",
      "source": [
        "#statements, 파이썬의 일부 명령어를 담고 있다\n",
        "\n",
        "statements = '''import math\n",
        "def area_of_circle(radius):\n",
        "  return math.pi*radius*radius\n",
        "'''\n",
        "# statements를 실행하겠다.\n",
        "exec(statements) \n",
        "area_of_circle(5)"
      ],
      "metadata": {
        "colab": {
          "base_uri": "https://localhost:8080/"
        },
        "id": "bwNMlXay8Tux",
        "outputId": "9546a3fb-d384-4a81-8cd7-1726154f71e2"
      },
      "execution_count": 50,
      "outputs": [
        {
          "output_type": "execute_result",
          "data": {
            "text/plain": [
              "78.53981633974483"
            ]
          },
          "metadata": {},
          "execution_count": 50
        }
      ]
    },
    {
      "cell_type": "code",
      "source": [
        "hello = 'Hello, world!'\n",
        "hello"
      ],
      "metadata": {
        "colab": {
          "base_uri": "https://localhost:8080/",
          "height": 37
        },
        "id": "UqK1vv1L9M2i",
        "outputId": "d1b8d3e9-57cf-4de1-9ddd-ffc0717874b9"
      },
      "execution_count": 25,
      "outputs": [
        {
          "output_type": "execute_result",
          "data": {
            "text/plain": [
              "'Hello, world!'"
            ],
            "application/vnd.google.colaboratory.intrinsic+json": {
              "type": "string"
            }
          },
          "metadata": {},
          "execution_count": 25
        }
      ]
    },
    {
      "cell_type": "code",
      "source": [
        "#문자열을 큰 따옴표로 묶어 할당하면, 출력시 작은 따옴표로 출력\n",
        "hello = \"Hello, world\"\n",
        "hello"
      ],
      "metadata": {
        "colab": {
          "base_uri": "https://localhost:8080/",
          "height": 37
        },
        "id": "9hacrP0-MAh3",
        "outputId": "e85e8406-ca18-48ac-ca85-07f31d9b1f63"
      },
      "execution_count": 26,
      "outputs": [
        {
          "output_type": "execute_result",
          "data": {
            "text/plain": [
              "'Hello, world'"
            ],
            "application/vnd.google.colaboratory.intrinsic+json": {
              "type": "string"
            }
          },
          "metadata": {},
          "execution_count": 26
        }
      ]
    },
    {
      "cell_type": "code",
      "source": [
        "hello = '''Hello, Python!'''\n",
        "hello"
      ],
      "metadata": {
        "colab": {
          "base_uri": "https://localhost:8080/",
          "height": 37
        },
        "id": "odHudbsWMDj_",
        "outputId": "f39616cd-70f7-4206-b54f-a2c705121745"
      },
      "execution_count": 27,
      "outputs": [
        {
          "output_type": "execute_result",
          "data": {
            "text/plain": [
              "'Hello, Python!'"
            ],
            "application/vnd.google.colaboratory.intrinsic+json": {
              "type": "string"
            }
          },
          "metadata": {},
          "execution_count": 27
        }
      ]
    },
    {
      "cell_type": "code",
      "source": [
        "python = \"\"\"Python Programming\"\"\"\n",
        "python"
      ],
      "metadata": {
        "colab": {
          "base_uri": "https://localhost:8080/",
          "height": 37
        },
        "id": "1XgJD9vTMPSf",
        "outputId": "12d2676b-2d82-4780-861f-95cd85f8bfdc"
      },
      "execution_count": 29,
      "outputs": [
        {
          "output_type": "execute_result",
          "data": {
            "text/plain": [
              "'Python Programming'"
            ],
            "application/vnd.google.colaboratory.intrinsic+json": {
              "type": "string"
            }
          },
          "metadata": {},
          "execution_count": 29
        }
      ]
    },
    {
      "cell_type": "code",
      "source": [
        "hi = '''hello world!\n",
        "안녕하세요.\n",
        "Python입니다. '''\n",
        "hi"
      ],
      "metadata": {
        "colab": {
          "base_uri": "https://localhost:8080/",
          "height": 37
        },
        "id": "XKCD1XO7NAyy",
        "outputId": "f17b09b8-06c5-4711-e3b8-543f7c336136"
      },
      "execution_count": 31,
      "outputs": [
        {
          "output_type": "execute_result",
          "data": {
            "text/plain": [
              "'hello world!\\n안녕하세요.\\nPython입니다. '"
            ],
            "application/vnd.google.colaboratory.intrinsic+json": {
              "type": "string"
            }
          },
          "metadata": {},
          "execution_count": 31
        }
      ]
    },
    {
      "cell_type": "code",
      "source": [
        "print(hi)"
      ],
      "metadata": {
        "colab": {
          "base_uri": "https://localhost:8080/"
        },
        "id": "iyxrR8XLNHmy",
        "outputId": "47893f27-02da-42bc-aed4-efff902c9235"
      },
      "execution_count": 32,
      "outputs": [
        {
          "output_type": "stream",
          "name": "stdout",
          "text": [
            "hello world!\n",
            "안녕하세요.\n",
            "Python입니다. \n"
          ]
        }
      ]
    },
    {
      "cell_type": "code",
      "source": [
        "# 문자열 안에 작은 따옴표 넣어주려면, 밖에서 큰 따옴표로 감싸기\n",
        "# 만약, 밖을 작은 따옴표 사용시 Error \n",
        "s = \"Python isn't difficult\"\n",
        "s"
      ],
      "metadata": {
        "colab": {
          "base_uri": "https://localhost:8080/",
          "height": 37
        },
        "id": "OfmfQ7DLNOfB",
        "outputId": "e47af307-148c-41a9-f699-9ad79e1cd7a6"
      },
      "execution_count": 38,
      "outputs": [
        {
          "output_type": "execute_result",
          "data": {
            "text/plain": [
              "\"Python isn't difficult\""
            ],
            "application/vnd.google.colaboratory.intrinsic+json": {
              "type": "string"
            }
          },
          "metadata": {},
          "execution_count": 38
        }
      ]
    },
    {
      "cell_type": "code",
      "source": [
        "# ''' 이후에 구분하고자 엔터사용 X, 엔터 쓸 경우에는 엔터까지 인식이 되기 때문이다.\n",
        "single_quote = '''\"안녕하세요.\"\n",
        "'파이썬'입니다.'''\n",
        "\n",
        "double_quote1 = \"\"\"\"Hello\"\n",
        "'Python'\"\"\"\n",
        "\n",
        "double_quote2 = \"\"\"Hello, 'Python'\"\"\"\n",
        "\n",
        "print(single_quote)\n",
        "print(double_quote1)\n",
        "print(double_quote2)"
      ],
      "metadata": {
        "colab": {
          "base_uri": "https://localhost:8080/"
        },
        "id": "xJ-qVeNMNWxI",
        "outputId": "b9a68295-5826-4aed-fdaf-860087feb8ad"
      },
      "execution_count": 48,
      "outputs": [
        {
          "output_type": "stream",
          "name": "stdout",
          "text": [
            "\"안녕하세요.\"\n",
            "'파이썬'입니다.\n",
            "\"Hello\"\n",
            "'Python'\n",
            "Hello, 'Python'\n"
          ]
        }
      ]
    },
    {
      "cell_type": "code",
      "source": [
        "# 문자열 -> 부동소수점\n",
        "str = input(\"실수 입력\")\n",
        "str"
      ],
      "metadata": {
        "colab": {
          "base_uri": "https://localhost:8080/",
          "height": 56
        },
        "id": "53hRW7eWN7C1",
        "outputId": "0c9e4163-d39f-42b3-e0ff-e8ff95ad05a3"
      },
      "execution_count": 52,
      "outputs": [
        {
          "name": "stdout",
          "output_type": "stream",
          "text": [
            "실수 입력35\n"
          ]
        },
        {
          "output_type": "execute_result",
          "data": {
            "text/plain": [
              "'35'"
            ],
            "application/vnd.google.colaboratory.intrinsic+json": {
              "type": "string"
            }
          },
          "metadata": {},
          "execution_count": 52
        }
      ]
    },
    {
      "cell_type": "code",
      "source": [
        "values = [1, 2, 3, 4, 5]\n",
        "max(values)"
      ],
      "metadata": {
        "colab": {
          "base_uri": "https://localhost:8080/"
        },
        "id": "PMkBMacgTmY1",
        "outputId": "40935977-f804-4deb-bf28-21d50219cf97"
      },
      "execution_count": 53,
      "outputs": [
        {
          "output_type": "execute_result",
          "data": {
            "text/plain": [
              "5"
            ]
          },
          "metadata": {},
          "execution_count": 53
        }
      ]
    },
    {
      "cell_type": "code",
      "source": [
        "min(values)"
      ],
      "metadata": {
        "colab": {
          "base_uri": "https://localhost:8080/"
        },
        "id": "HevWHJtETsYk",
        "outputId": "e57944cc-0a28-4693-8755-1f51db2f136a"
      },
      "execution_count": 54,
      "outputs": [
        {
          "output_type": "execute_result",
          "data": {
            "text/plain": [
              "1"
            ]
          },
          "metadata": {},
          "execution_count": 54
        }
      ]
    },
    {
      "cell_type": "code",
      "source": [
        "\"나는 문자열입니다\""
      ],
      "metadata": {
        "colab": {
          "base_uri": "https://localhost:8080/",
          "height": 37
        },
        "id": "gC_k3v3Ob4NX",
        "outputId": "fee17c65-d023-461f-9a01-e2bd8bb51c25"
      },
      "execution_count": 62,
      "outputs": [
        {
          "output_type": "execute_result",
          "data": {
            "text/plain": [
              "'나는 문자열입니다'"
            ],
            "application/vnd.google.colaboratory.intrinsic+json": {
              "type": "string"
            }
          },
          "metadata": {},
          "execution_count": 62
        }
      ]
    },
    {
      "cell_type": "code",
      "source": [
        "f\"나는 f-string입니다.\""
      ],
      "metadata": {
        "colab": {
          "base_uri": "https://localhost:8080/",
          "height": 37
        },
        "id": "M4pWueZtb5-w",
        "outputId": "394cf22e-539c-4463-c29c-403e183f20b7"
      },
      "execution_count": 63,
      "outputs": [
        {
          "output_type": "execute_result",
          "data": {
            "text/plain": [
              "'나는 f-string입니다.'"
            ],
            "application/vnd.google.colaboratory.intrinsic+json": {
              "type": "string"
            }
          },
          "metadata": {},
          "execution_count": 63
        }
      ]
    },
    {
      "cell_type": "code",
      "source": [
        "# 변수 치환\n",
        "# 중괄호를 통해서 파이썬 표현식(expression) 출력\n",
        "x = 1\n",
        "y = 2\n",
        "f\"{x} + {y}는 {x+y}입니다.\"\n",
        "#'1+2는 3입니다.'"
      ],
      "metadata": {
        "colab": {
          "base_uri": "https://localhost:8080/",
          "height": 37
        },
        "id": "gqHZtSR2b_mU",
        "outputId": "5b56563a-2662-4b1d-dc32-e64db88d1b8d"
      },
      "execution_count": 72,
      "outputs": [
        {
          "output_type": "execute_result",
          "data": {
            "text/plain": [
              "'1 + 2는 3입니다.'"
            ],
            "application/vnd.google.colaboratory.intrinsic+json": {
              "type": "string"
            }
          },
          "metadata": {},
          "execution_count": 72
        }
      ]
    },
    {
      "cell_type": "code",
      "source": [
        "# 문자열 안에 변수를 삽입하기\n",
        "first_name = \"John\"\n",
        "last_name = \"Doe\"\n",
        "f\"Welcome, {first_name} {last_name}!\""
      ],
      "metadata": {
        "colab": {
          "base_uri": "https://localhost:8080/",
          "height": 37
        },
        "id": "i-XuT1SScPrz",
        "outputId": "bd1e42f9-fc02-4051-9b2b-f98222978f5f"
      },
      "execution_count": 73,
      "outputs": [
        {
          "output_type": "execute_result",
          "data": {
            "text/plain": [
              "'Welcome, John Doe!'"
            ],
            "application/vnd.google.colaboratory.intrinsic+json": {
              "type": "string"
            }
          },
          "metadata": {},
          "execution_count": 73
        }
      ]
    },
    {
      "cell_type": "code",
      "source": [
        "# f-string안에서 함수 호출 가능\n",
        "word = \"Python\"\n",
        "f\"{word}는 {len(word)}글자입니다.\""
      ],
      "metadata": {
        "colab": {
          "base_uri": "https://localhost:8080/",
          "height": 37
        },
        "id": "M-3AiV7cdpxE",
        "outputId": "959ef83d-f1ad-4a6c-c54c-5a0ebbdaa353"
      },
      "execution_count": 78,
      "outputs": [
        {
          "output_type": "execute_result",
          "data": {
            "text/plain": [
              "'Python는 6글자입니다.'"
            ],
            "application/vnd.google.colaboratory.intrinsic+json": {
              "type": "string"
            }
          },
          "metadata": {},
          "execution_count": 78
        }
      ]
    },
    {
      "cell_type": "code",
      "source": [
        "f\"대문자로는 {word.upper()}이고, 소문자로는 {word.lower()}입니다.\""
      ],
      "metadata": {
        "colab": {
          "base_uri": "https://localhost:8080/",
          "height": 37
        },
        "id": "MRTGPtVRd0Ub",
        "outputId": "aabdaa89-ece8-453a-f97d-3a70ecc110f9"
      },
      "execution_count": 77,
      "outputs": [
        {
          "output_type": "execute_result",
          "data": {
            "text/plain": [
              "'대문자로는 PYTHON이고, 소문자로는 python입니다.'"
            ],
            "application/vnd.google.colaboratory.intrinsic+json": {
              "type": "string"
            }
          },
          "metadata": {},
          "execution_count": 77
        }
      ]
    },
    {
      "cell_type": "code",
      "source": [
        "f\"{word}의 첫 두글자는 {word[:2]} 입니다.\""
      ],
      "metadata": {
        "colab": {
          "base_uri": "https://localhost:8080/",
          "height": 37
        },
        "id": "uV5Uh0q7eEzZ",
        "outputId": "93b73bca-7d8c-471d-c5f1-0f026f5d68ca"
      },
      "execution_count": 79,
      "outputs": [
        {
          "output_type": "execute_result",
          "data": {
            "text/plain": [
              "'Python의 첫 두글자는 Py 입니다.'"
            ],
            "application/vnd.google.colaboratory.intrinsic+json": {
              "type": "string"
            }
          },
          "metadata": {},
          "execution_count": 79
        }
      ]
    },
    {
      "cell_type": "code",
      "source": [
        "f\"{word}를 거꾸로하면 {word[::-1]} 입니다.\""
      ],
      "metadata": {
        "colab": {
          "base_uri": "https://localhost:8080/",
          "height": 37
        },
        "id": "jWR676xNeMrk",
        "outputId": "ccbe1d16-3188-4142-8d6d-559b4351ff32"
      },
      "execution_count": 84,
      "outputs": [
        {
          "output_type": "execute_result",
          "data": {
            "text/plain": [
              "'Python를 거꾸로하면 nohtyP 입니다.'"
            ],
            "application/vnd.google.colaboratory.intrinsic+json": {
              "type": "string"
            }
          },
          "metadata": {},
          "execution_count": 84
        }
      ]
    },
    {
      "cell_type": "code",
      "source": [
        "# 4,3,2,1,0 으로 0까지 인덱스 출력\n",
        "f\"{word}를 거꾸로하면 {word[4::-1]} 입니다.\""
      ],
      "metadata": {
        "colab": {
          "base_uri": "https://localhost:8080/",
          "height": 37
        },
        "id": "UX8LIT-UevEN",
        "outputId": "25a5b203-7cfa-4ec7-97b4-346caa0ede41"
      },
      "execution_count": 94,
      "outputs": [
        {
          "output_type": "execute_result",
          "data": {
            "text/plain": [
              "'Python를 거꾸로하면 ohtyP 입니다.'"
            ],
            "application/vnd.google.colaboratory.intrinsic+json": {
              "type": "string"
            }
          },
          "metadata": {},
          "execution_count": 94
        }
      ]
    },
    {
      "cell_type": "code",
      "source": [
        "# __repr__은 개발자 친화적(여러 개의 문자열 수용 가능), __str__는 사용자 친화적(한 개의 문자열 수용)"
      ],
      "metadata": {
        "id": "WSjyR9YdfDys"
      },
      "execution_count": 128,
      "outputs": []
    },
    {
      "cell_type": "code",
      "source": [
        "class test:\n",
        "  # 생성자 name\n",
        "  def __init__(self,name): \n",
        "    self.name = name\n",
        "\n",
        "  # 문자열\n",
        "  def __str__(self):\n",
        "    return f\"Hello, my name is {self.name}\"\n",
        "\n",
        "test_ = test(\"wonjae\")\n",
        "print(test_)"
      ],
      "metadata": {
        "colab": {
          "base_uri": "https://localhost:8080/"
        },
        "id": "sSp2wLvGYhKh",
        "outputId": "72dbd610-f3c1-4152-ceb5-0832faa42ee1"
      },
      "execution_count": 129,
      "outputs": [
        {
          "output_type": "stream",
          "name": "stdout",
          "text": [
            "Hello, my name is wonjae\n"
          ]
        }
      ]
    },
    {
      "cell_type": "code",
      "source": [
        "# print는 내부적으로 str 메소드로 표현\n",
        "print(test_)"
      ],
      "metadata": {
        "colab": {
          "base_uri": "https://localhost:8080/"
        },
        "id": "8LGRinsjfxv4",
        "outputId": "5fdac0f4-1aee-469c-8968-80b496d6f674"
      },
      "execution_count": 130,
      "outputs": [
        {
          "output_type": "stream",
          "name": "stdout",
          "text": [
            "Hello, my name is wonjae\n"
          ]
        }
      ]
    },
    {
      "cell_type": "code",
      "source": [
        "class test:\n",
        "  # 생성자 name\n",
        "  def __init__(self,name): \n",
        "    self.name = name\n",
        "\n",
        "  def __repr__(self):\n",
        "    return \"Hello, my name is %s\"%(self.name)\n",
        "\n",
        "\n",
        "test_ = test(\"wonjae\")\n",
        "test_"
      ],
      "metadata": {
        "colab": {
          "base_uri": "https://localhost:8080/"
        },
        "id": "ieBYCXlOhlae",
        "outputId": "b6abada8-f82e-4537-c0da-6e0ea4556143"
      },
      "execution_count": 131,
      "outputs": [
        {
          "output_type": "execute_result",
          "data": {
            "text/plain": [
              "Hello, my name is wonjae"
            ]
          },
          "metadata": {},
          "execution_count": 131
        }
      ]
    },
    {
      "cell_type": "code",
      "source": [
        "# 나이순으로 정렬하여 보여주는 프로그램 작성\n",
        "class Person(object):\n",
        "  def __init__(self, name, age):\n",
        "    self.name = name\n",
        "    self.age = age\n",
        "  #객체를 문자열로 표현현\n",
        "  def __repr__(self):\n",
        "    return \"<이름:%s, 나이: %s>\"%(self.name, self.age)\n",
        "\n",
        "def keyAge(person):\n",
        "  return person.age\n",
        "\n",
        "people= [Person(\"홍길동\",20),Person(\"김철수\",35),Person(\"최자명\", 38)]\n",
        "print(sorted(people, key = keyAge))"
      ],
      "metadata": {
        "colab": {
          "base_uri": "https://localhost:8080/"
        },
        "id": "NVDy91PoTtE-",
        "outputId": "ed4d704d-ac03-4c8c-a938-643090e3618c"
      },
      "execution_count": 132,
      "outputs": [
        {
          "output_type": "stream",
          "name": "stdout",
          "text": [
            "[<이름:홍길동, 나이: 20>, <이름:김철수, 나이: 35>, <이름:최자명, 나이: 38>]\n"
          ]
        }
      ]
    },
    {
      "cell_type": "code",
      "source": [
        "# 나이순으로 정렬하여 보여주는 프로그램 작성\n",
        "class Person(object):\n",
        "  def __init__(self, name, age):\n",
        "    self.name = name\n",
        "    self.age = age\n",
        "  #객체를 문자열로 표현\n",
        "  def __str__(self):\n",
        "    return f\"<이름:{self.name}, 나이: {self.age}>\"\n",
        "\n",
        "def keyAge(person):\n",
        "  return person.age\n",
        "\n",
        "people= Person(\"홍길동\",20)\n",
        "\n",
        "print(people)"
      ],
      "metadata": {
        "colab": {
          "base_uri": "https://localhost:8080/"
        },
        "id": "qQ1iDKDjh-ML",
        "outputId": "10014c67-aff0-4ce8-da4a-843f0d67d95f"
      },
      "execution_count": 133,
      "outputs": [
        {
          "output_type": "stream",
          "name": "stdout",
          "text": [
            "<이름:홍길동, 나이: 20>\n"
          ]
        }
      ]
    },
    {
      "cell_type": "code",
      "source": [],
      "metadata": {
        "id": "Y5h7LCADh8PL"
      },
      "execution_count": 133,
      "outputs": []
    }
  ]
}
