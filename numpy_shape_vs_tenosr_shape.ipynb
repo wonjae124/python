{
  "nbformat": 4,
  "nbformat_minor": 0,
  "metadata": {
    "colab": {
      "name": "numpy shape vs tenosr shape.ipynb",
      "provenance": [],
      "collapsed_sections": [],
      "authorship_tag": "ABX9TyP7yXDNOW9lY26hlsiNwzUt",
      "include_colab_link": true
    },
    "kernelspec": {
      "name": "python3",
      "display_name": "Python 3"
    },
    "language_info": {
      "name": "python"
    }
  },
  "cells": [
    {
      "cell_type": "markdown",
      "metadata": {
        "id": "view-in-github",
        "colab_type": "text"
      },
      "source": [
        "<a href=\"https://colab.research.google.com/github/wonjae124/python/blob/main/numpy_shape_vs_tenosr_shape.ipynb\" target=\"_parent\"><img src=\"https://colab.research.google.com/assets/colab-badge.svg\" alt=\"Open In Colab\"/></a>"
      ]
    },
    {
      "cell_type": "code",
      "execution_count": 84,
      "metadata": {
        "id": "z0NBtpOuSgRP"
      },
      "outputs": [],
      "source": [
        "import numpy as np\n",
        "import timeit\n",
        "import torch"
      ]
    },
    {
      "cell_type": "code",
      "source": [
        "array1d = np.array([1,2,3,4])\n",
        "print(array1d)\n",
        "print(type(array1d))\n",
        "print(array1d.shape)"
      ],
      "metadata": {
        "colab": {
          "base_uri": "https://localhost:8080/"
        },
        "id": "H6X6C5y7Sktn",
        "outputId": "ab2adc07-42f5-47ba-c176-f639ea00e29e"
      },
      "execution_count": 3,
      "outputs": [
        {
          "output_type": "stream",
          "name": "stdout",
          "text": [
            "[1 2 3 4]\n",
            "<class 'numpy.ndarray'>\n",
            "(4,)\n"
          ]
        }
      ]
    },
    {
      "cell_type": "code",
      "source": [
        "gen0 = [100, 200]\n",
        "gen1 = [50, 0]\n",
        "gen2 = [350, 100]\n",
        "expression_data = [gen0, gen1, gen2]\n",
        "expression_data"
      ],
      "metadata": {
        "colab": {
          "base_uri": "https://localhost:8080/"
        },
        "id": "tP40Av2EStYu",
        "outputId": "e051546e-a350-45e7-db9b-c54a8979bf35"
      },
      "execution_count": 8,
      "outputs": [
        {
          "output_type": "execute_result",
          "data": {
            "text/plain": [
              "[[100, 200], [50, 0], [350, 100]]"
            ]
          },
          "metadata": {},
          "execution_count": 8
        }
      ]
    },
    {
      "cell_type": "code",
      "source": [
        "print(len(gen1)) #리스트의 크기를 구하는 방법으로, shape 없고 len만 가능\n",
        "print(type(gen1))"
      ],
      "metadata": {
        "colab": {
          "base_uri": "https://localhost:8080/"
        },
        "id": "WfZ0U1-yTAAN",
        "outputId": "f9bc76ab-f17d-412e-eaf9-b8dd131cec83"
      },
      "execution_count": 22,
      "outputs": [
        {
          "output_type": "stream",
          "name": "stdout",
          "text": [
            "2\n",
            "<class 'list'>\n"
          ]
        }
      ]
    },
    {
      "cell_type": "code",
      "source": [
        "print(len(expression_data))\n",
        "print(type(expression_data))"
      ],
      "metadata": {
        "colab": {
          "base_uri": "https://localhost:8080/"
        },
        "id": "g_TH94YlSztu",
        "outputId": "bc2a96c0-e275-4499-88f1-1febc3713ef5"
      },
      "execution_count": 24,
      "outputs": [
        {
          "output_type": "stream",
          "name": "stdout",
          "text": [
            "3\n",
            "<class 'list'>\n"
          ]
        }
      ]
    },
    {
      "cell_type": "code",
      "source": [
        "print(expression_data[0][0], expression_data[0][1])\n",
        "print(expression_data[1][0],expression_data[1][1])\n",
        "print(expression_data[2][0],expression_data[2][1])"
      ],
      "metadata": {
        "colab": {
          "base_uri": "https://localhost:8080/"
        },
        "id": "Qdqp4UYYTgwE",
        "outputId": "4a817cb2-7fb4-4534-9176-e5c904a750e1"
      },
      "execution_count": 31,
      "outputs": [
        {
          "output_type": "stream",
          "name": "stdout",
          "text": [
            "100 200\n",
            "50 0\n",
            "350 100\n"
          ]
        }
      ]
    },
    {
      "cell_type": "code",
      "source": [
        "array2d = np.array(expression_data)\n",
        "print(array2d)\n",
        "print(array2d.shape)  # (height, width) = (3. 2)\n",
        "print(type(array2d))\n",
        "print(array2d.ndim)"
      ],
      "metadata": {
        "colab": {
          "base_uri": "https://localhost:8080/"
        },
        "id": "TKROQOuGTDOF",
        "outputId": "1e0f0bc8-c391-42f4-a32c-df91803343e7"
      },
      "execution_count": 34,
      "outputs": [
        {
          "output_type": "stream",
          "name": "stdout",
          "text": [
            "[[100 200]\n",
            " [ 50   0]\n",
            " [350 100]]\n",
            "(3, 2)\n",
            "<class 'numpy.ndarray'>\n",
            "2\n"
          ]
        }
      ]
    },
    {
      "cell_type": "markdown",
      "source": [
        "##List보다 array가 연산속도가 빠르다"
      ],
      "metadata": {
        "id": "jBYuhjj2VD1g"
      }
    },
    {
      "cell_type": "code",
      "source": [
        "array = np.arange(1e6)\n",
        "list_array = array.tolist()\n",
        "list_array\n",
        "print(type(array))\n",
        "print(type(list_array))"
      ],
      "metadata": {
        "colab": {
          "base_uri": "https://localhost:8080/"
        },
        "id": "j4BpXk7TUbqy",
        "outputId": "a992da29-63d9-4cf1-dab3-61ca80e7c3b1"
      },
      "execution_count": 39,
      "outputs": [
        {
          "output_type": "stream",
          "name": "stdout",
          "text": [
            "<class 'numpy.ndarray'>\n",
            "<class 'list'>\n"
          ]
        }
      ]
    },
    {
      "cell_type": "code",
      "source": [
        "%timeit -n10 y = [val * 5 for val in list_array]"
      ],
      "metadata": {
        "colab": {
          "base_uri": "https://localhost:8080/"
        },
        "id": "XPln7Z_vVSPI",
        "outputId": "238ab386-cc51-4bb3-d017-298e32bd379d"
      },
      "execution_count": 40,
      "outputs": [
        {
          "output_type": "stream",
          "name": "stdout",
          "text": [
            "10 loops, best of 5: 103 ms per loop\n"
          ]
        }
      ]
    },
    {
      "cell_type": "code",
      "source": [
        "%timeit -n10 x = array*5 # array가 list보다 50배 빠르다."
      ],
      "metadata": {
        "colab": {
          "base_uri": "https://localhost:8080/"
        },
        "id": "f2UP5Z09VcOQ",
        "outputId": "e0006fb4-d796-4dd4-ffef-5f6e85f88715"
      },
      "execution_count": 41,
      "outputs": [
        {
          "output_type": "stream",
          "name": "stdout",
          "text": [
            "10 loops, best of 5: 2.25 ms per loop\n"
          ]
        }
      ]
    },
    {
      "cell_type": "markdown",
      "source": [
        "## For문에서 일일히 하나씩 더 하는 것보다, 벡터로 만들어서 행렬계산하는게 더 빠르다."
      ],
      "metadata": {
        "id": "kfAnCDwjV2J2"
      }
    },
    {
      "cell_type": "code",
      "source": [
        "x = np.array([1, 2, 3, 4])\n",
        "print(x*2)\n",
        "print(x.shape)"
      ],
      "metadata": {
        "colab": {
          "base_uri": "https://localhost:8080/"
        },
        "id": "4zk-6AQvV_g2",
        "outputId": "61bc8eec-dc94-4b11-b170-625a823222aa"
      },
      "execution_count": 45,
      "outputs": [
        {
          "output_type": "stream",
          "name": "stdout",
          "text": [
            "[2 4 6 8]\n",
            "(4,)\n"
          ]
        }
      ]
    },
    {
      "cell_type": "code",
      "source": [
        "y= np.array([0, 1, 2, 1])\n",
        "print(y.shape)\n",
        "print(x+y)\n",
        "print((x+y).shape)"
      ],
      "metadata": {
        "colab": {
          "base_uri": "https://localhost:8080/"
        },
        "id": "MXK7wvajWDi2",
        "outputId": "920f5b9d-d384-40db-b3e2-0da98a3ccee0"
      },
      "execution_count": 47,
      "outputs": [
        {
          "output_type": "stream",
          "name": "stdout",
          "text": [
            "(4,)\n",
            "[1 3 5 5]\n",
            "(4,)\n"
          ]
        }
      ]
    },
    {
      "cell_type": "markdown",
      "source": [
        "## Broadcasting. 두 행렬간의 효율적인 연산\n"
      ],
      "metadata": {
        "id": "Z6uDZH88Wupt"
      }
    },
    {
      "cell_type": "code",
      "source": [
        "x = np.array([1, 2, 3, 4])\n",
        "print(x,'\\n')\n",
        "\n",
        "x = np.reshape(x, (len(x),1)) # (4, )-> (4,1)\n",
        "print(x,'\\n')\n",
        "\n",
        "print(x.shape)"
      ],
      "metadata": {
        "colab": {
          "base_uri": "https://localhost:8080/"
        },
        "id": "pIakmWabWJD-",
        "outputId": "ec8af6d2-222d-4c96-80b9-c583ab3490db"
      },
      "execution_count": 58,
      "outputs": [
        {
          "output_type": "stream",
          "name": "stdout",
          "text": [
            "[1 2 3 4] \n",
            "\n",
            "[[1]\n",
            " [2]\n",
            " [3]\n",
            " [4]] \n",
            "\n",
            "(4, 1)\n"
          ]
        }
      ]
    },
    {
      "cell_type": "code",
      "source": [
        "y = np.array([0, 1, 2, 1])\n",
        "\n",
        "y = np.reshape(y, (1, len(y))) #(4,) ->(1, 4)\n",
        "print(y)"
      ],
      "metadata": {
        "colab": {
          "base_uri": "https://localhost:8080/"
        },
        "id": "Lob0c3PuXAzD",
        "outputId": "ebea35e2-f096-4575-8dc5-ddd1e9bf6865"
      },
      "execution_count": 59,
      "outputs": [
        {
          "output_type": "stream",
          "name": "stdout",
          "text": [
            "[[0 1 2 1]]\n"
          ]
        }
      ]
    },
    {
      "cell_type": "code",
      "source": [
        "print(x.shape, y.shape,'\\n')\n",
        "outer = x*y\n",
        "print(outer,'\\n')\n",
        "print(outer.shape,'\\n')"
      ],
      "metadata": {
        "colab": {
          "base_uri": "https://localhost:8080/"
        },
        "id": "XrPgwAzPXLYT",
        "outputId": "b7f6aad5-e32e-4733-fa14-c301632b9492"
      },
      "execution_count": 63,
      "outputs": [
        {
          "output_type": "stream",
          "name": "stdout",
          "text": [
            "(4, 1) (1, 4) \n",
            "\n",
            "[[0 1 2 1]\n",
            " [0 2 4 2]\n",
            " [0 3 6 3]\n",
            " [0 4 8 4]] \n",
            "\n",
            "(4, 4) \n",
            "\n"
          ]
        }
      ]
    },
    {
      "cell_type": "markdown",
      "source": [
        "### https://www.oreilly.com/library/view/elegant-scipy/9781491922927/ch01.html#table0101\n",
        "\n",
        "### https://yeko90.tistory.com/46\n",
        "\n",
        "https://donut-ts.tistory.com/18"
      ],
      "metadata": {
        "id": "hXj1BA3dYCBJ"
      }
    },
    {
      "cell_type": "markdown",
      "source": [
        "### 메모리 카피 .copy() vs .view"
      ],
      "metadata": {
        "id": "_FSWHO36ZN9G"
      }
    },
    {
      "cell_type": "code",
      "source": [
        "a = np.arange(5)\n",
        "b = a.copy() #카피를 하면 메모리를 공유하지 않고 새롭게 할당함.\n",
        "\n",
        "b[0] = 100 #새 메모리의 변수의 값을 바꾼다고 원본도 바뀌지는 않음 \n",
        "print(a) \n",
        "print(b)"
      ],
      "metadata": {
        "colab": {
          "base_uri": "https://localhost:8080/"
        },
        "id": "ddYWUy2mW2iL",
        "outputId": "ab4e9c88-6146-4bd3-fa43-b9e460806424"
      },
      "execution_count": 68,
      "outputs": [
        {
          "output_type": "stream",
          "name": "stdout",
          "text": [
            "[0 1 2 3 4]\n",
            "[100   1   2   3   4]\n"
          ]
        }
      ]
    },
    {
      "cell_type": "code",
      "source": [
        "a = np.arange(5)\n",
        "b = a.view()\n",
        "\n",
        "b[0] = 100\n",
        "\n",
        "print(a)\n",
        "print(b)"
      ],
      "metadata": {
        "colab": {
          "base_uri": "https://localhost:8080/"
        },
        "id": "xGPyFfYJY2w_",
        "outputId": "5f06b50c-b875-49c3-c580-802067ea1baf"
      },
      "execution_count": 70,
      "outputs": [
        {
          "output_type": "stream",
          "name": "stdout",
          "text": [
            "[100   1   2   3   4]\n",
            "[100   1   2   3   4]\n"
          ]
        }
      ]
    },
    {
      "cell_type": "markdown",
      "source": [
        "# flatten vs reval"
      ],
      "metadata": {
        "id": "Ord_LE5oZQlG"
      }
    },
    {
      "cell_type": "code",
      "source": [
        "a = np.random.randint(0, 10, (2,3)) \n",
        "\n",
        "print('변경 전 a : ', a)\n",
        "b = a.flatten() #.copy를 자동으로 함. 메모리 공유 x\n",
        "print('번경 전 b : ', b)\n",
        "b[0]= 10\n",
        "print('변경 후 a : ', a)\n",
        "print('변경 후 b : ', b)"
      ],
      "metadata": {
        "colab": {
          "base_uri": "https://localhost:8080/"
        },
        "id": "qTfLbm5eZSDO",
        "outputId": "8a56edfd-e91f-4a1c-8982-9daf8e114c29"
      },
      "execution_count": 80,
      "outputs": [
        {
          "output_type": "stream",
          "name": "stdout",
          "text": [
            "변경 전 a :  [[1 2 7]\n",
            " [5 6 8]]\n",
            "번경 전 b :  [1 2 7 5 6 8]\n",
            "변경 후 a :  [[1 2 7]\n",
            " [5 6 8]]\n",
            "변경 후 b :  [10  2  7  5  6  8]\n"
          ]
        }
      ]
    },
    {
      "cell_type": "code",
      "source": [
        "a = np.random.randint(0, 10, (2,3)) \n",
        "\n",
        "print('변경 전 a : ', a)\n",
        "b = a.ravel() # 메모리 공유 함\n",
        "print('번경 전 b : ', b)\n",
        "b[0]= -10\n",
        "print('변경 후 a : ', a)\n",
        "print('변경 후 b : ', b)"
      ],
      "metadata": {
        "colab": {
          "base_uri": "https://localhost:8080/"
        },
        "id": "4MBgNOJUaDME",
        "outputId": "4303079d-e492-4250-9c3a-3e66fd3c553f"
      },
      "execution_count": 79,
      "outputs": [
        {
          "output_type": "stream",
          "name": "stdout",
          "text": [
            "변경 전 a :  [[2 2 7]\n",
            " [4 0 7]]\n",
            "번경 전 b :  [2 2 7 4 0 7]\n",
            "변경 후 a :  [[-10   2   7]\n",
            " [  4   0   7]]\n",
            "변경 후 b :  [-10   2   7   4   0   7]\n"
          ]
        }
      ]
    },
    {
      "cell_type": "markdown",
      "source": [
        "### 메모리 공유 확인 방법(.base)"
      ],
      "metadata": {
        "id": "85Lt5TpGauiT"
      }
    },
    {
      "cell_type": "code",
      "source": [
        "a = np.arange(4)\n",
        "b = a.flatten() # 메모리를 공유하지 않으므로 \n",
        "print('변경 전',b)\n",
        "\n",
        "b[0] = 0\n",
        "\n",
        "print('b base  :', b.base is a, '\\n')\n",
        "print('a : ', a)\n",
        "print('변경 후', b)"
      ],
      "metadata": {
        "colab": {
          "base_uri": "https://localhost:8080/"
        },
        "id": "EI4NnTneaxMi",
        "outputId": "038a4eb7-b12f-48d1-c3f2-52dabc270891"
      },
      "execution_count": 85,
      "outputs": [
        {
          "output_type": "stream",
          "name": "stdout",
          "text": [
            "변경 전 [0 1 2 3]\n",
            "b base  : False \n",
            "\n",
            "a :  [0 1 2 3]\n",
            "변경 후 [0 1 2 3]\n"
          ]
        }
      ]
    },
    {
      "cell_type": "markdown",
      "source": [
        "# torch tensor vs numpy"
      ],
      "metadata": {
        "id": "QJwIBW3qmeWX"
      }
    },
    {
      "cell_type": "markdown",
      "source": [
        "###2 dim"
      ],
      "metadata": {
        "id": "occRcwsHnHi1"
      }
    },
    {
      "cell_type": "code",
      "source": [
        "x = np.array([[2,3],[1,4]])\n",
        "x\n",
        "\n",
        "y = torch.from_numpy(x)\n",
        "y\n",
        "# x.shape"
      ],
      "metadata": {
        "colab": {
          "base_uri": "https://localhost:8080/"
        },
        "id": "-o8YdZJLa-Sa",
        "outputId": "f1343d6b-9d00-4df4-9422-bd02f937e6b6"
      },
      "execution_count": 97,
      "outputs": [
        {
          "output_type": "execute_result",
          "data": {
            "text/plain": [
              "tensor([[2, 3],\n",
              "        [1, 4]])"
            ]
          },
          "metadata": {},
          "execution_count": 97
        }
      ]
    },
    {
      "cell_type": "code",
      "source": [
        "x.shape"
      ],
      "metadata": {
        "colab": {
          "base_uri": "https://localhost:8080/"
        },
        "id": "l0zWCRtZm3cu",
        "outputId": "ab233b79-7f84-4c68-e915-438e0548c565"
      },
      "execution_count": 98,
      "outputs": [
        {
          "output_type": "execute_result",
          "data": {
            "text/plain": [
              "(2, 2)"
            ]
          },
          "metadata": {},
          "execution_count": 98
        }
      ]
    },
    {
      "cell_type": "code",
      "source": [
        "y.shape"
      ],
      "metadata": {
        "colab": {
          "base_uri": "https://localhost:8080/"
        },
        "id": "maHBIvG2m9M9",
        "outputId": "9d1c41f8-af84-4859-c325-b3dd6ca5baec"
      },
      "execution_count": 102,
      "outputs": [
        {
          "output_type": "execute_result",
          "data": {
            "text/plain": [
              "torch.Size([2, 2])"
            ]
          },
          "metadata": {},
          "execution_count": 102
        }
      ]
    },
    {
      "cell_type": "markdown",
      "source": [
        "### 1 dim"
      ],
      "metadata": {
        "id": "XFF9Oo4InLjU"
      }
    },
    {
      "cell_type": "code",
      "source": [
        "z = np.array( [[[2,3], [1,4]]\n",
        "             ,[[2,4], [5,6]]\n",
        "             ,[[1,8], [9,1]]])\n",
        "\n",
        "z.shape"
      ],
      "metadata": {
        "colab": {
          "base_uri": "https://localhost:8080/"
        },
        "id": "i2meAyW6nK60",
        "outputId": "9b7207c8-20ff-4ac1-be3b-e05ca14fbe2c"
      },
      "execution_count": 125,
      "outputs": [
        {
          "output_type": "execute_result",
          "data": {
            "text/plain": [
              "(3, 2, 2)"
            ]
          },
          "metadata": {},
          "execution_count": 125
        }
      ]
    },
    {
      "cell_type": "code",
      "source": [
        "y = torch.from_numpy(z)\n",
        "y.shape"
      ],
      "metadata": {
        "colab": {
          "base_uri": "https://localhost:8080/"
        },
        "id": "7c9DMnqioCC7",
        "outputId": "8b7bb514-7987-4a4c-f94f-f7c1cac076d8"
      },
      "execution_count": 131,
      "outputs": [
        {
          "output_type": "execute_result",
          "data": {
            "text/plain": [
              "torch.Size([3, 2, 2])"
            ]
          },
          "metadata": {},
          "execution_count": 131
        }
      ]
    },
    {
      "cell_type": "code",
      "source": [
        "x = torch.tensor(y)\n",
        "x.shape"
      ],
      "metadata": {
        "colab": {
          "base_uri": "https://localhost:8080/"
        },
        "id": "KmZ2jsnDoGoi",
        "outputId": "987d99cd-8497-49e5-ca13-ac755946b3d7"
      },
      "execution_count": 130,
      "outputs": [
        {
          "output_type": "stream",
          "name": "stderr",
          "text": [
            "/usr/local/lib/python3.7/dist-packages/ipykernel_launcher.py:1: UserWarning: To copy construct from a tensor, it is recommended to use sourceTensor.clone().detach() or sourceTensor.clone().detach().requires_grad_(True), rather than torch.tensor(sourceTensor).\n",
            "  \"\"\"Entry point for launching an IPython kernel.\n"
          ]
        },
        {
          "output_type": "execute_result",
          "data": {
            "text/plain": [
              "torch.Size([3, 2, 2])"
            ]
          },
          "metadata": {},
          "execution_count": 130
        }
      ]
    },
    {
      "cell_type": "code",
      "source": [
        ""
      ],
      "metadata": {
        "id": "hAesljKPoRZy"
      },
      "execution_count": null,
      "outputs": []
    }
  ]
}